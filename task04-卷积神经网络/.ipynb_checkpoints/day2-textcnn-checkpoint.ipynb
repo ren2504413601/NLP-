{
 "cells": [
  {
   "cell_type": "markdown",
   "metadata": {},
   "source": [
    "## textcnn\n",
    "将卷积神经网络CNN应用到文本分类任务，利用多个不同size的kernel来提取句子中的关键信息（类似于多窗口大小的ngram），从而能够更好地捕捉局部相关性。\n",
    "\n",
    "具体过程如下：\n",
    "![](textcnn.png)\n",
    "![](textcnn_model.png)\n",
    "**参考：**https://www.cnblogs.com/bymo/p/9675654.html\n",
    "\n",
    "**文本分类问题综述:**https://zhuanlan.zhihu.com/p/25928551"
   ]
  },
  {
   "cell_type": "markdown",
   "metadata": {},
   "source": [
    "### tf.keras 实现"
   ]
  },
  {
   "cell_type": "code",
   "execution_count": 3,
   "metadata": {},
   "outputs": [],
   "source": [
    "import logging\n",
    "import tensorflow as tf "
   ]
  },
  {
   "cell_type": "code",
   "execution_count": 4,
   "metadata": {},
   "outputs": [],
   "source": [
    "from tensorflow.keras import Input\n",
    "from tensorflow.keras.layers import Conv1D, MaxPool1D, Dense, Flatten, concatenate, Embedding\n",
    "from tensorflow.keras.models import Model\n",
    "from tensorflow.keras.utils import plot_model\n",
    "\n",
    "\n",
    "def textcnn(max_sequence_length, max_token_num, embedding_dim, output_dim, model_img_path=None, embedding_matrix=None):\n",
    "    \"\"\" TextCNN: 1. embedding layers, 2.convolution layer, 3.max-pooling, 4.softmax layer. \"\"\"\n",
    "    x_input = Input(shape=(max_sequence_length,))\n",
    "    logging.info(\"x_input.shape: %s\" % str(x_input.shape))  # (?, 60)\n",
    "\n",
    "    if embedding_matrix is None:\n",
    "        x_emb = Embedding(input_dim=max_token_num, output_dim=embedding_dim, input_length=max_sequence_length)(x_input)\n",
    "    else:\n",
    "        x_emb = Embedding(input_dim=max_token_num, output_dim=embedding_dim, input_length=max_sequence_length,\n",
    "                          weights=[embedding_matrix], trainable=True)(x_input)\n",
    "    logging.info(\"x_emb.shape: %s\" % str(x_emb.shape))  # (?, 60, 300)\n",
    "\n",
    "    pool_output = []\n",
    "    kernel_sizes = [2, 3, 4] \n",
    "    for kernel_size in kernel_sizes:\n",
    "        c = Conv1D(filters=2, kernel_size=kernel_size, strides=1)(x_emb)\n",
    "        p = MaxPool1D(pool_size=int(c.shape[1]))(c)\n",
    "        pool_output.append(p)\n",
    "        logging.info(\"kernel_size: %s \\t c.shape: %s \\t p.shape: %s\" % (kernel_size, str(c.shape), str(p.shape)))\n",
    "    pool_output = concatenate([p for p in pool_output])\n",
    "    logging.info(\"pool_output.shape: %s\" % str(pool_output.shape))  # (?, 1, 6)\n",
    "\n",
    "    x_flatten = Flatten()(pool_output)  # (?, 6)\n",
    "    y = Dense(output_dim, activation='softmax')(x_flatten)  # (?, 2)\n",
    "    logging.info(\"y.shape: %s \\n\" % str(y.shape))\n",
    "\n",
    "    model = Model([x_input], outputs=[y])\n",
    "    if model_img_path:\n",
    "        plot_model(model, to_file=model_img_path, show_shapes=True, show_layer_names=False)\n",
    "    model.summary()\n",
    "    return model"
   ]
  },
  {
   "cell_type": "code",
   "execution_count": 6,
   "metadata": {},
   "outputs": [
    {
     "name": "stdout",
     "output_type": "stream",
     "text": [
      "WARNING:tensorflow:From /home/renlei/miniconda3/envs/tensorflow1_15_py37/lib/python3.7/site-packages/tensorflow_core/python/keras/initializers.py:119: calling RandomUniform.__init__ (from tensorflow.python.ops.init_ops) with dtype is deprecated and will be removed in a future version.\n",
      "Instructions for updating:\n",
      "Call initializer instance with the dtype argument instead of passing it to the constructor\n"
     ]
    },
    {
     "name": "stderr",
     "output_type": "stream",
     "text": [
      "WARNING:tensorflow:From /home/renlei/miniconda3/envs/tensorflow1_15_py37/lib/python3.7/site-packages/tensorflow_core/python/keras/initializers.py:119: calling RandomUniform.__init__ (from tensorflow.python.ops.init_ops) with dtype is deprecated and will be removed in a future version.\n",
      "Instructions for updating:\n",
      "Call initializer instance with the dtype argument instead of passing it to the constructor\n"
     ]
    },
    {
     "name": "stdout",
     "output_type": "stream",
     "text": [
      "WARNING:tensorflow:From /home/renlei/miniconda3/envs/tensorflow1_15_py37/lib/python3.7/site-packages/tensorflow_core/python/ops/resource_variable_ops.py:1630: calling BaseResourceVariable.__init__ (from tensorflow.python.ops.resource_variable_ops) with constraint is deprecated and will be removed in a future version.\n",
      "Instructions for updating:\n",
      "If using Keras pass *_constraint arguments to layers.\n"
     ]
    },
    {
     "name": "stderr",
     "output_type": "stream",
     "text": [
      "WARNING:tensorflow:From /home/renlei/miniconda3/envs/tensorflow1_15_py37/lib/python3.7/site-packages/tensorflow_core/python/ops/resource_variable_ops.py:1630: calling BaseResourceVariable.__init__ (from tensorflow.python.ops.resource_variable_ops) with constraint is deprecated and will be removed in a future version.\n",
      "Instructions for updating:\n",
      "If using Keras pass *_constraint arguments to layers.\n"
     ]
    },
    {
     "name": "stdout",
     "output_type": "stream",
     "text": [
      "Model: \"model\"\n",
      "__________________________________________________________________________________________________\n",
      "Layer (type)                    Output Shape         Param #     Connected to                     \n",
      "==================================================================================================\n",
      "input_1 (InputLayer)            [(None, 384)]        0                                            \n",
      "__________________________________________________________________________________________________\n",
      "embedding (Embedding)           (None, 384, 3)       3072        input_1[0][0]                    \n",
      "__________________________________________________________________________________________________\n",
      "conv1d (Conv1D)                 (None, 383, 2)       14          embedding[0][0]                  \n",
      "__________________________________________________________________________________________________\n",
      "conv1d_1 (Conv1D)               (None, 382, 2)       20          embedding[0][0]                  \n",
      "__________________________________________________________________________________________________\n",
      "conv1d_2 (Conv1D)               (None, 381, 2)       26          embedding[0][0]                  \n",
      "__________________________________________________________________________________________________\n",
      "max_pooling1d (MaxPooling1D)    (None, 1, 2)         0           conv1d[0][0]                     \n",
      "__________________________________________________________________________________________________\n",
      "max_pooling1d_1 (MaxPooling1D)  (None, 1, 2)         0           conv1d_1[0][0]                   \n",
      "__________________________________________________________________________________________________\n",
      "max_pooling1d_2 (MaxPooling1D)  (None, 1, 2)         0           conv1d_2[0][0]                   \n",
      "__________________________________________________________________________________________________\n",
      "concatenate (Concatenate)       (None, 1, 6)         0           max_pooling1d[0][0]              \n",
      "                                                                 max_pooling1d_1[0][0]            \n",
      "                                                                 max_pooling1d_2[0][0]            \n",
      "__________________________________________________________________________________________________\n",
      "flatten (Flatten)               (None, 6)            0           concatenate[0][0]                \n",
      "__________________________________________________________________________________________________\n",
      "dense (Dense)                   (None, 3)            21          flatten[0][0]                    \n",
      "==================================================================================================\n",
      "Total params: 3,153\n",
      "Trainable params: 3,153\n",
      "Non-trainable params: 0\n",
      "__________________________________________________________________________________________________\n"
     ]
    },
    {
     "data": {
      "text/plain": [
       "<tensorflow.python.keras.engine.training.Model at 0x7fb72815e310>"
      ]
     },
     "execution_count": 6,
     "metadata": {},
     "output_type": "execute_result"
    }
   ],
   "source": [
    "textcnn(384, 1024, 3, 3)"
   ]
  },
  {
   "cell_type": "code",
   "execution_count": null,
   "metadata": {},
   "outputs": [],
   "source": []
  }
 ],
 "metadata": {
  "interpreter": {
   "hash": "f9697a2dd5b2151782a3f86c429a17173d5841c8767147afef20cb4c5e7a0764"
  },
  "kernelspec": {
   "display_name": "tensorflow1_15_py37",
   "language": "python",
   "name": "tensorflow1_15_py37"
  },
  "language_info": {
   "codemirror_mode": {
    "name": "ipython",
    "version": 3
   },
   "file_extension": ".py",
   "mimetype": "text/x-python",
   "name": "python",
   "nbconvert_exporter": "python",
   "pygments_lexer": "ipython3",
   "version": "3.7.16"
  }
 },
 "nbformat": 4,
 "nbformat_minor": 2
}
