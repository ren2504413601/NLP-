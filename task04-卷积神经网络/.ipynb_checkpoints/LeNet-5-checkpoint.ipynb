{
 "cells": [
  {
   "cell_type": "code",
   "execution_count": 1,
   "metadata": {},
   "outputs": [
    {
     "name": "stderr",
     "output_type": "stream",
     "text": [
      "2023-12-16 07:38:24.344688: I tensorflow/core/platform/cpu_feature_guard.cc:193] This TensorFlow binary is optimized with oneAPI Deep Neural Network Library (oneDNN) to use the following CPU instructions in performance-critical operations:  AVX2 AVX512F AVX512_VNNI FMA\n",
      "To enable them in other operations, rebuild TensorFlow with the appropriate compiler flags.\n",
      "2023-12-16 07:38:24.405590: I tensorflow/core/util/port.cc:104] oneDNN custom operations are on. You may see slightly different numerical results due to floating-point round-off errors from different computation orders. To turn them off, set the environment variable `TF_ENABLE_ONEDNN_OPTS=0`.\n",
      "2023-12-16 07:38:24.762505: W tensorflow/compiler/xla/stream_executor/platform/default/dso_loader.cc:64] Could not load dynamic library 'libnvinfer.so.7'; dlerror: libnvinfer.so.7: cannot open shared object file: No such file or directory; LD_LIBRARY_PATH: /home/renlei/TensorRT-8.4.1.5/lib:/usr/local/cuda-11.6/lib64:\n",
      "2023-12-16 07:38:24.762564: W tensorflow/compiler/xla/stream_executor/platform/default/dso_loader.cc:64] Could not load dynamic library 'libnvinfer_plugin.so.7'; dlerror: libnvinfer_plugin.so.7: cannot open shared object file: No such file or directory; LD_LIBRARY_PATH: /home/renlei/TensorRT-8.4.1.5/lib:/usr/local/cuda-11.6/lib64:\n",
      "2023-12-16 07:38:24.762568: W tensorflow/compiler/tf2tensorrt/utils/py_utils.cc:38] TF-TRT Warning: Cannot dlopen some TensorRT libraries. If you would like to use Nvidia GPU with TensorRT, please make sure the missing libraries mentioned above are installed properly.\n"
     ]
    }
   ],
   "source": [
    "import numpy as np\n",
    "import pandas as pd\n",
    "from keras.utils import np_utils\n",
    "from keras import Sequential\n",
    "from keras.layers import Dense, Dropout, Flatten, Conv2D, MaxPool2D\n",
    "from keras.utils.np_utils import to_categorical # convert to one-hot-encoding\n",
    "from sklearn.model_selection import train_test_split"
   ]
  },
  {
   "cell_type": "markdown",
   "metadata": {},
   "source": [
    "### 本地csv中导入mnist数据 "
   ]
  },
  {
   "cell_type": "code",
   "execution_count": 2,
   "metadata": {},
   "outputs": [],
   "source": [
    "train = pd.read_csv(\"./CNN for MINST dataset/train.csv\")\n",
    "test = pd.read_csv(\"./CNN for MINST dataset/test.csv\")\n",
    "target=train['label']\n",
    "features=train.drop(labels='label',axis=1)#pd.drop():Return new object with labels in requested axis removed.\n",
    "#print(target.shape,features.shape)\n",
    "## normalize\n",
    "features=features.astype('float32')\n",
    "test=test.astype('float32')\n",
    "features/=255.0\n",
    "test/=255.0\n",
    "## Reshape image in 3 dimensions (height = 28, width = 28 , channel = 1)\n",
    "height,width ,channel= 28,28,1\n",
    "features=features.values.reshape(-1,height,width,channel)\n",
    "test=test.values.reshape(-1,height,width,channel)\n",
    "\n",
    "## Encode labels to one hot vectors\n",
    "target=to_categorical(target,num_classes=10)\n",
    "\n",
    "## Split the train and the validation set for the fitting\n",
    "X_train, X_val, Y_train, Y_val = train_test_split(features, target, test_size = 0.1)"
   ]
  },
  {
   "cell_type": "markdown",
   "metadata": {},
   "source": [
    "### tensorflow.keras 库中导入mnist数据"
   ]
  },
  {
   "cell_type": "code",
   "execution_count": 3,
   "metadata": {},
   "outputs": [
    {
     "name": "stdout",
     "output_type": "stream",
     "text": [
      "(60000, 28, 28, 1) (10000, 28, 28, 1) (60000, 10) <class 'numpy.ndarray'>\n"
     ]
    }
   ],
   "source": [
    "from tensorflow.keras.datasets import mnist\n",
    "(trainx,trainy),(testx,testy)=mnist.load_data()\n",
    "### convert mnist data to 28x28x1\n",
    "X_train=trainx.reshape([-1,28,28,1])\n",
    "x_test=testx.reshape([testx.shape[0],28,28,1])\n",
    "### normlized\n",
    "X_train=X_train.astype('float32')\n",
    "x_test=x_test.astype('float32')\n",
    "### 将label 值转换为需要的格式(one-hot编码)\n",
    "Y_train=to_categorical(trainy,10)\n",
    "y_test=to_categorical(testy,10)\n",
    "print(X_train.shape,x_test.shape,Y_train.shape,type(trainx))\n",
    "X_train, X_val, Y_train, Y_val = train_test_split(X_train, Y_train, test_size = 0.1)"
   ]
  },
  {
   "cell_type": "markdown",
   "metadata": {},
   "source": [
    "### 构建 LeNet-5 model"
   ]
  },
  {
   "cell_type": "code",
   "execution_count": 4,
   "metadata": {},
   "outputs": [
    {
     "name": "stderr",
     "output_type": "stream",
     "text": [
      "2023-12-16 07:38:27.355245: I tensorflow/compiler/xla/stream_executor/cuda/cuda_gpu_executor.cc:981] successful NUMA node read from SysFS had negative value (-1), but there must be at least one NUMA node, so returning NUMA node zero\n",
      "2023-12-16 07:38:27.394375: I tensorflow/compiler/xla/stream_executor/cuda/cuda_gpu_executor.cc:981] successful NUMA node read from SysFS had negative value (-1), but there must be at least one NUMA node, so returning NUMA node zero\n",
      "2023-12-16 07:38:27.394471: I tensorflow/compiler/xla/stream_executor/cuda/cuda_gpu_executor.cc:981] successful NUMA node read from SysFS had negative value (-1), but there must be at least one NUMA node, so returning NUMA node zero\n",
      "2023-12-16 07:38:27.394981: I tensorflow/core/platform/cpu_feature_guard.cc:193] This TensorFlow binary is optimized with oneAPI Deep Neural Network Library (oneDNN) to use the following CPU instructions in performance-critical operations:  AVX2 AVX512F AVX512_VNNI FMA\n",
      "To enable them in other operations, rebuild TensorFlow with the appropriate compiler flags.\n",
      "2023-12-16 07:38:27.395462: I tensorflow/compiler/xla/stream_executor/cuda/cuda_gpu_executor.cc:981] successful NUMA node read from SysFS had negative value (-1), but there must be at least one NUMA node, so returning NUMA node zero\n",
      "2023-12-16 07:38:27.395546: I tensorflow/compiler/xla/stream_executor/cuda/cuda_gpu_executor.cc:981] successful NUMA node read from SysFS had negative value (-1), but there must be at least one NUMA node, so returning NUMA node zero\n",
      "2023-12-16 07:38:27.395614: I tensorflow/compiler/xla/stream_executor/cuda/cuda_gpu_executor.cc:981] successful NUMA node read from SysFS had negative value (-1), but there must be at least one NUMA node, so returning NUMA node zero\n",
      "2023-12-16 07:38:27.664219: I tensorflow/compiler/xla/stream_executor/cuda/cuda_gpu_executor.cc:981] successful NUMA node read from SysFS had negative value (-1), but there must be at least one NUMA node, so returning NUMA node zero\n",
      "2023-12-16 07:38:27.664371: I tensorflow/compiler/xla/stream_executor/cuda/cuda_gpu_executor.cc:981] successful NUMA node read from SysFS had negative value (-1), but there must be at least one NUMA node, so returning NUMA node zero\n",
      "2023-12-16 07:38:27.664446: I tensorflow/compiler/xla/stream_executor/cuda/cuda_gpu_executor.cc:981] successful NUMA node read from SysFS had negative value (-1), but there must be at least one NUMA node, so returning NUMA node zero\n",
      "2023-12-16 07:38:27.664508: I tensorflow/core/common_runtime/gpu/gpu_device.cc:1613] Created device /job:localhost/replica:0/task:0/device:GPU:0 with 5888 MB memory:  -> device: 0, name: NVIDIA GeForce RTX 3060 Ti, pci bus id: 0000:01:00.0, compute capability: 8.6\n"
     ]
    }
   ],
   "source": [
    "model = Sequential()\n",
    "# 卷积层\n",
    "model.add(Conv2D(filters = 32, kernel_size = (5,5),padding = 'Same', \n",
    "                     activation ='relu', input_shape = (28,28,1)))\n",
    "model.add(MaxPool2D(pool_size=(2,2)))\n",
    "model.add(Conv2D(filters = 64, kernel_size = (5,5),padding = 'Same', \n",
    "                     activation ='relu'))\n",
    "model.add(MaxPool2D(pool_size=(2,2)))\n",
    "# 全连接层\n",
    "model.add(Flatten())#Flatten():将输入展平。不影响批量大小\n",
    "model.add(Dense(512, activation = \"relu\", use_bias= True))\n",
    "model.add(Dropout(0.5))\n",
    "model.add(Dense(10, activation = \"softmax\", use_bias= True))"
   ]
  },
  {
   "cell_type": "markdown",
   "metadata": {},
   "source": [
    "### fit results"
   ]
  },
  {
   "cell_type": "code",
   "execution_count": 5,
   "metadata": {},
   "outputs": [
    {
     "name": "stdout",
     "output_type": "stream",
     "text": [
      "Epoch 1/50\n"
     ]
    },
    {
     "name": "stderr",
     "output_type": "stream",
     "text": [
      "2023-12-16 07:38:29.262234: I tensorflow/compiler/xla/stream_executor/cuda/cuda_dnn.cc:428] Loaded cuDNN version 8904\n",
      "2023-12-16 07:38:29.494040: I tensorflow/compiler/xla/stream_executor/cuda/cuda_blas.cc:630] TensorFloat-32 will be used for the matrix multiplication. This will only be logged once.\n",
      "2023-12-16 07:38:29.612803: I tensorflow/compiler/xla/service/service.cc:173] XLA service 0x7fb8a1a2b900 initialized for platform CUDA (this does not guarantee that XLA will be used). Devices:\n",
      "2023-12-16 07:38:29.612820: I tensorflow/compiler/xla/service/service.cc:181]   StreamExecutor device (0): NVIDIA GeForce RTX 3060 Ti, Compute Capability 8.6\n",
      "2023-12-16 07:38:29.615364: I tensorflow/compiler/mlir/tensorflow/utils/dump_mlir_util.cc:268] disabling MLIR crash reproducer, set env var `MLIR_CRASH_REPRODUCER_DIRECTORY` to enable.\n",
      "2023-12-16 07:38:29.679414: I tensorflow/compiler/jit/xla_compilation_cache.cc:477] Compiled cluster using XLA!  This line is logged at most once for the lifetime of the process.\n"
     ]
    },
    {
     "name": "stdout",
     "output_type": "stream",
     "text": [
      "3375/3375 [==============================] - 8s 2ms/step - loss: 0.2835 - accuracy: 0.9420 - val_loss: 0.0947 - val_accuracy: 0.9725\n",
      "Epoch 2/50\n",
      "3375/3375 [==============================] - 6s 2ms/step - loss: 0.1115 - accuracy: 0.9696 - val_loss: 0.1030 - val_accuracy: 0.9753\n",
      "Epoch 3/50\n",
      "3375/3375 [==============================] - 5s 2ms/step - loss: 0.0998 - accuracy: 0.9729 - val_loss: 0.0713 - val_accuracy: 0.9835\n",
      "Epoch 4/50\n",
      "3375/3375 [==============================] - 6s 2ms/step - loss: 0.0886 - accuracy: 0.9771 - val_loss: 0.1008 - val_accuracy: 0.9755\n",
      "Epoch 5/50\n",
      "3375/3375 [==============================] - 5s 2ms/step - loss: 0.0869 - accuracy: 0.9787 - val_loss: 0.0693 - val_accuracy: 0.9855\n",
      "Epoch 6/50\n",
      "3375/3375 [==============================] - 6s 2ms/step - loss: 0.0841 - accuracy: 0.9794 - val_loss: 0.0780 - val_accuracy: 0.9830\n",
      "Epoch 7/50\n",
      "3375/3375 [==============================] - 6s 2ms/step - loss: 0.0801 - accuracy: 0.9803 - val_loss: 0.0828 - val_accuracy: 0.9823\n",
      "Epoch 8/50\n",
      "3375/3375 [==============================] - 5s 2ms/step - loss: 0.0810 - accuracy: 0.9811 - val_loss: 0.0954 - val_accuracy: 0.9830\n",
      "Epoch 9/50\n",
      "3375/3375 [==============================] - 6s 2ms/step - loss: 0.0829 - accuracy: 0.9814 - val_loss: 0.0909 - val_accuracy: 0.9830\n",
      "Epoch 10/50\n",
      "3375/3375 [==============================] - 5s 2ms/step - loss: 0.0814 - accuracy: 0.9814 - val_loss: 0.1302 - val_accuracy: 0.9748\n",
      "Epoch 11/50\n",
      "3375/3375 [==============================] - 6s 2ms/step - loss: 0.0788 - accuracy: 0.9826 - val_loss: 0.0853 - val_accuracy: 0.9795\n",
      "Epoch 12/50\n",
      "3375/3375 [==============================] - 5s 2ms/step - loss: 0.0797 - accuracy: 0.9834 - val_loss: 0.1230 - val_accuracy: 0.9808\n",
      "Epoch 13/50\n",
      "3375/3375 [==============================] - 6s 2ms/step - loss: 0.0837 - accuracy: 0.9835 - val_loss: 0.0882 - val_accuracy: 0.9853\n",
      "Epoch 14/50\n",
      "3375/3375 [==============================] - 6s 2ms/step - loss: 0.0773 - accuracy: 0.9841 - val_loss: 0.1108 - val_accuracy: 0.9847\n",
      "Epoch 15/50\n",
      "3375/3375 [==============================] - 6s 2ms/step - loss: 0.0865 - accuracy: 0.9839 - val_loss: 0.1114 - val_accuracy: 0.9847\n",
      "Epoch 16/50\n",
      "3375/3375 [==============================] - 6s 2ms/step - loss: 0.0818 - accuracy: 0.9845 - val_loss: 0.1081 - val_accuracy: 0.9842\n",
      "Epoch 17/50\n",
      "3375/3375 [==============================] - 5s 2ms/step - loss: 0.0831 - accuracy: 0.9852 - val_loss: 0.1228 - val_accuracy: 0.9853\n",
      "Epoch 18/50\n",
      "3375/3375 [==============================] - 5s 2ms/step - loss: 0.0804 - accuracy: 0.9853 - val_loss: 0.1222 - val_accuracy: 0.9857\n",
      "Epoch 19/50\n",
      "3375/3375 [==============================] - 5s 2ms/step - loss: 0.0894 - accuracy: 0.9845 - val_loss: 0.1121 - val_accuracy: 0.9845\n",
      "Epoch 20/50\n",
      "3375/3375 [==============================] - 6s 2ms/step - loss: 0.0737 - accuracy: 0.9865 - val_loss: 0.1440 - val_accuracy: 0.9860\n",
      "Epoch 21/50\n",
      "3375/3375 [==============================] - 5s 2ms/step - loss: 0.0845 - accuracy: 0.9858 - val_loss: 0.1546 - val_accuracy: 0.9833\n",
      "Epoch 22/50\n",
      "3375/3375 [==============================] - 6s 2ms/step - loss: 0.0827 - accuracy: 0.9859 - val_loss: 0.1542 - val_accuracy: 0.9860\n",
      "Epoch 23/50\n",
      "3375/3375 [==============================] - 6s 2ms/step - loss: 0.0865 - accuracy: 0.9866 - val_loss: 0.1901 - val_accuracy: 0.9840\n",
      "Epoch 24/50\n",
      "3375/3375 [==============================] - 5s 2ms/step - loss: 0.0916 - accuracy: 0.9864 - val_loss: 0.1592 - val_accuracy: 0.9867\n",
      "Epoch 25/50\n",
      "3375/3375 [==============================] - 6s 2ms/step - loss: 0.0916 - accuracy: 0.9862 - val_loss: 0.1713 - val_accuracy: 0.9852\n",
      "Epoch 26/50\n",
      "3375/3375 [==============================] - 6s 2ms/step - loss: 0.0965 - accuracy: 0.9856 - val_loss: 0.1134 - val_accuracy: 0.9887\n",
      "Epoch 27/50\n",
      "3375/3375 [==============================] - 5s 2ms/step - loss: 0.0918 - accuracy: 0.9855 - val_loss: 0.2373 - val_accuracy: 0.9853\n",
      "Epoch 28/50\n",
      "3375/3375 [==============================] - 6s 2ms/step - loss: 0.0922 - accuracy: 0.9864 - val_loss: 0.1089 - val_accuracy: 0.9832\n",
      "Epoch 29/50\n",
      "3375/3375 [==============================] - 5s 2ms/step - loss: 0.1171 - accuracy: 0.9850 - val_loss: 0.1526 - val_accuracy: 0.9852\n",
      "Epoch 30/50\n",
      "3375/3375 [==============================] - 6s 2ms/step - loss: 0.0868 - accuracy: 0.9867 - val_loss: 0.1774 - val_accuracy: 0.9827\n",
      "Epoch 31/50\n",
      "3375/3375 [==============================] - 6s 2ms/step - loss: 0.0985 - accuracy: 0.9870 - val_loss: 0.2415 - val_accuracy: 0.9853\n",
      "Epoch 32/50\n",
      "3375/3375 [==============================] - 6s 2ms/step - loss: 0.1036 - accuracy: 0.9872 - val_loss: 0.1704 - val_accuracy: 0.9853\n",
      "Epoch 33/50\n",
      "3375/3375 [==============================] - 7s 2ms/step - loss: 0.1020 - accuracy: 0.9872 - val_loss: 0.1526 - val_accuracy: 0.9802\n",
      "Epoch 34/50\n",
      "3375/3375 [==============================] - 7s 2ms/step - loss: 0.0917 - accuracy: 0.9865 - val_loss: 0.1619 - val_accuracy: 0.9847\n",
      "Epoch 35/50\n",
      "3375/3375 [==============================] - 6s 2ms/step - loss: 0.0931 - accuracy: 0.9865 - val_loss: 0.1390 - val_accuracy: 0.9850\n",
      "Epoch 36/50\n",
      "3375/3375 [==============================] - 6s 2ms/step - loss: 0.1014 - accuracy: 0.9872 - val_loss: 0.1688 - val_accuracy: 0.9852\n",
      "Epoch 37/50\n",
      "3375/3375 [==============================] - 6s 2ms/step - loss: 0.1011 - accuracy: 0.9874 - val_loss: 0.2103 - val_accuracy: 0.9848\n",
      "Epoch 38/50\n",
      "3375/3375 [==============================] - 6s 2ms/step - loss: 0.1050 - accuracy: 0.9877 - val_loss: 0.2233 - val_accuracy: 0.9865\n",
      "Epoch 39/50\n",
      "3375/3375 [==============================] - 6s 2ms/step - loss: 0.0979 - accuracy: 0.9878 - val_loss: 0.1479 - val_accuracy: 0.9847\n",
      "Epoch 40/50\n",
      "3375/3375 [==============================] - 6s 2ms/step - loss: 0.0964 - accuracy: 0.9878 - val_loss: 0.2514 - val_accuracy: 0.9842\n",
      "Epoch 41/50\n",
      "3375/3375 [==============================] - 6s 2ms/step - loss: 0.0936 - accuracy: 0.9887 - val_loss: 0.1919 - val_accuracy: 0.9858\n",
      "Epoch 42/50\n",
      "3375/3375 [==============================] - 7s 2ms/step - loss: 0.1005 - accuracy: 0.9881 - val_loss: 0.2394 - val_accuracy: 0.9872\n",
      "Epoch 43/50\n",
      "3375/3375 [==============================] - 6s 2ms/step - loss: 0.1194 - accuracy: 0.9867 - val_loss: 0.2353 - val_accuracy: 0.9838\n",
      "Epoch 44/50\n",
      "3375/3375 [==============================] - 5s 2ms/step - loss: 0.0980 - accuracy: 0.9874 - val_loss: 0.2496 - val_accuracy: 0.9847\n",
      "Epoch 45/50\n",
      "3375/3375 [==============================] - 5s 2ms/step - loss: 0.1158 - accuracy: 0.9876 - val_loss: 0.4943 - val_accuracy: 0.9847\n",
      "Epoch 46/50\n",
      "3375/3375 [==============================] - 5s 2ms/step - loss: 0.1088 - accuracy: 0.9880 - val_loss: 0.2402 - val_accuracy: 0.9880\n",
      "Epoch 47/50\n",
      "3375/3375 [==============================] - 6s 2ms/step - loss: 0.1018 - accuracy: 0.9876 - val_loss: 0.4075 - val_accuracy: 0.9847\n",
      "Epoch 48/50\n",
      "3375/3375 [==============================] - 5s 2ms/step - loss: 0.1071 - accuracy: 0.9868 - val_loss: 0.2996 - val_accuracy: 0.9853\n",
      "Epoch 49/50\n",
      "3375/3375 [==============================] - 6s 2ms/step - loss: 0.0971 - accuracy: 0.9885 - val_loss: 0.3347 - val_accuracy: 0.9865\n",
      "Epoch 50/50\n",
      "3375/3375 [==============================] - 5s 2ms/step - loss: 0.1137 - accuracy: 0.9874 - val_loss: 0.1484 - val_accuracy: 0.9867\n"
     ]
    }
   ],
   "source": [
    "model.compile(optimizer = 'adam' , loss = \"categorical_crossentropy\", metrics=[\"accuracy\"])\n",
    "## 使用 validation_split 分割数据\n",
    "#results = model.fit(X_train, Y_train, validation_split=0.1, batch_size=16, epochs=50)\n",
    "## 使用train_test_split()分割的validation_data\n",
    "fit_results = model.fit(X_train, Y_train, validation_data = (X_val,Y_val), batch_size=16, epochs=50)"
   ]
  },
  {
   "cell_type": "markdown",
   "metadata": {},
   "source": [
    "### predict results 为输入样本test生成输出预测"
   ]
  },
  {
   "cell_type": "code",
   "execution_count": 7,
   "metadata": {},
   "outputs": [
    {
     "name": "stdout",
     "output_type": "stream",
     "text": [
      "875/875 [==============================] - 1s 776us/step\n"
     ]
    }
   ],
   "source": [
    "results = model.predict(test)\n",
    "# select the indix with the maximum probability\n",
    "pre_results = np.argmax(results,axis = 1)\n",
    "pre_results = pd.Series(pre_results,name=\"Label\")\n",
    "# 预测结果save到本地csv文件\n",
    "submission = pd.concat([pd.Series(range(1,28001),name = \"ImageId\"),pre_results],axis = 1)\n",
    "submission.to_csv(\"./CNN for MINST dataset/LeNet_test_prediction.csv\",index=False)"
   ]
  },
  {
   "cell_type": "code",
   "execution_count": 9,
   "metadata": {},
   "outputs": [
    {
     "ename": "AttributeError",
     "evalue": "'Series' object has no attribute 'history'",
     "output_type": "error",
     "traceback": [
      "\u001b[0;31m---------------------------------------------------------------------------\u001b[0m",
      "\u001b[0;31mAttributeError\u001b[0m                            Traceback (most recent call last)",
      "\u001b[0;32m/tmp/ipykernel_11197/1497363518.py\u001b[0m in \u001b[0;36m<module>\u001b[0;34m\u001b[0m\n\u001b[1;32m      3\u001b[0m \u001b[0mplt\u001b[0m\u001b[0;34m.\u001b[0m\u001b[0mfigure\u001b[0m\u001b[0;34m(\u001b[0m\u001b[0mfigsize\u001b[0m \u001b[0;34m=\u001b[0m \u001b[0;34m(\u001b[0m\u001b[0;36m15\u001b[0m\u001b[0;34m,\u001b[0m\u001b[0;36m5\u001b[0m\u001b[0;34m)\u001b[0m\u001b[0;34m)\u001b[0m\u001b[0;34m\u001b[0m\u001b[0;34m\u001b[0m\u001b[0m\n\u001b[1;32m      4\u001b[0m \u001b[0mplt\u001b[0m\u001b[0;34m.\u001b[0m\u001b[0msubplot\u001b[0m\u001b[0;34m(\u001b[0m\u001b[0;36m1\u001b[0m\u001b[0;34m,\u001b[0m\u001b[0;36m2\u001b[0m\u001b[0;34m,\u001b[0m\u001b[0;36m1\u001b[0m\u001b[0;34m)\u001b[0m\u001b[0;34m\u001b[0m\u001b[0;34m\u001b[0m\u001b[0m\n\u001b[0;32m----> 5\u001b[0;31m \u001b[0mplt\u001b[0m\u001b[0;34m.\u001b[0m\u001b[0mplot\u001b[0m\u001b[0;34m(\u001b[0m\u001b[0mpre_results\u001b[0m\u001b[0;34m.\u001b[0m\u001b[0mhistory\u001b[0m\u001b[0;34m[\u001b[0m\u001b[0;34m'acc'\u001b[0m\u001b[0;34m]\u001b[0m\u001b[0;34m)\u001b[0m\u001b[0;34m\u001b[0m\u001b[0;34m\u001b[0m\u001b[0m\n\u001b[0m\u001b[1;32m      6\u001b[0m \u001b[0mplt\u001b[0m\u001b[0;34m.\u001b[0m\u001b[0mplot\u001b[0m\u001b[0;34m(\u001b[0m\u001b[0mpre_results\u001b[0m\u001b[0;34m.\u001b[0m\u001b[0mhistory\u001b[0m\u001b[0;34m[\u001b[0m\u001b[0;34m'val_acc'\u001b[0m\u001b[0;34m]\u001b[0m\u001b[0;34m)\u001b[0m\u001b[0;34m\u001b[0m\u001b[0;34m\u001b[0m\u001b[0m\n\u001b[1;32m      7\u001b[0m \u001b[0mplt\u001b[0m\u001b[0;34m.\u001b[0m\u001b[0mtitle\u001b[0m\u001b[0;34m(\u001b[0m\u001b[0;34m'model accuracy'\u001b[0m\u001b[0;34m)\u001b[0m\u001b[0;34m\u001b[0m\u001b[0;34m\u001b[0m\u001b[0m\n",
      "\u001b[0;32m~/miniconda3/envs/tensorflow1_15_py37/lib/python3.7/site-packages/pandas/core/generic.py\u001b[0m in \u001b[0;36m__getattr__\u001b[0;34m(self, name)\u001b[0m\n\u001b[1;32m   5485\u001b[0m         ):\n\u001b[1;32m   5486\u001b[0m             \u001b[0;32mreturn\u001b[0m \u001b[0mself\u001b[0m\u001b[0;34m[\u001b[0m\u001b[0mname\u001b[0m\u001b[0;34m]\u001b[0m\u001b[0;34m\u001b[0m\u001b[0;34m\u001b[0m\u001b[0m\n\u001b[0;32m-> 5487\u001b[0;31m         \u001b[0;32mreturn\u001b[0m \u001b[0mobject\u001b[0m\u001b[0;34m.\u001b[0m\u001b[0m__getattribute__\u001b[0m\u001b[0;34m(\u001b[0m\u001b[0mself\u001b[0m\u001b[0;34m,\u001b[0m \u001b[0mname\u001b[0m\u001b[0;34m)\u001b[0m\u001b[0;34m\u001b[0m\u001b[0;34m\u001b[0m\u001b[0m\n\u001b[0m\u001b[1;32m   5488\u001b[0m \u001b[0;34m\u001b[0m\u001b[0m\n\u001b[1;32m   5489\u001b[0m     \u001b[0;32mdef\u001b[0m \u001b[0m__setattr__\u001b[0m\u001b[0;34m(\u001b[0m\u001b[0mself\u001b[0m\u001b[0;34m,\u001b[0m \u001b[0mname\u001b[0m\u001b[0;34m:\u001b[0m \u001b[0mstr\u001b[0m\u001b[0;34m,\u001b[0m \u001b[0mvalue\u001b[0m\u001b[0;34m)\u001b[0m \u001b[0;34m->\u001b[0m \u001b[0;32mNone\u001b[0m\u001b[0;34m:\u001b[0m\u001b[0;34m\u001b[0m\u001b[0;34m\u001b[0m\u001b[0m\n",
      "\u001b[0;31mAttributeError\u001b[0m: 'Series' object has no attribute 'history'"
     ]
    },
    {
     "data": {
      "image/png": "[encoded data removed]",
      "text/plain": [
       "<Figure size 1080x360 with 1 Axes>"
      ]
     },
     "metadata": {
      "needs_background": "light"
     },
     "output_type": "display_data"
    }
   ],
   "source": [
    "#Plot Loss and accuracy\n",
    "import matplotlib.pyplot as plt\n",
    "plt.figure(figsize = (15,5))\n",
    "plt.subplot(1,2,1)\n",
    "plt.plot(pre_results.history['acc'])\n",
    "plt.plot(pre_results.history['val_acc'])\n",
    "plt.title('model accuracy')\n",
    "plt.ylabel('accuracy')\n",
    "plt.xlabel('epoch')\n",
    "plt.legend(['train', 'test'], loc='upper left')\n",
    "\n",
    "plt.subplot(1,2,2)\n",
    "plt.plot(pre_results.history['loss'])\n",
    "plt.plot(pre_results.history['val_loss'])\n",
    "plt.title('model loss')\n",
    "plt.ylabel('loss')\n",
    "plt.xlabel('epoch')\n",
    "plt.legend(['train', 'test'], loc='upper left')\n",
    "plt.show()\n",
    "plt.show()"
   ]
  },
  {
   "cell_type": "code",
   "execution_count": null,
   "metadata": {},
   "outputs": [],
   "source": []
  }
 ],
 "metadata": {
  "interpreter": {
   "hash": "f9697a2dd5b2151782a3f86c429a17173d5841c8767147afef20cb4c5e7a0764"
  },
  "kernelspec": {
   "display_name": "tensorflow1_15_py37",
   "language": "python",
   "name": "tensorflow1_15_py37"
  },
  "language_info": {
   "codemirror_mode": {
    "name": "ipython",
    "version": 3
   },
   "file_extension": ".py",
   "mimetype": "text/x-python",
   "name": "python",
   "nbconvert_exporter": "python",
   "pygments_lexer": "ipython3",
   "version": "3.7.16"
  }
 },
 "nbformat": 4,
 "nbformat_minor": 2
}
