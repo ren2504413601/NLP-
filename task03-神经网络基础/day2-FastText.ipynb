{
 "cells": [
  {
   "cell_type": "markdown",
   "metadata": {},
   "source": [
    "fastText是Facebook AI Research推出的文本分类工具，它也可以用于训练词向量、句向量等，其最大的特点是模型简洁，训练速度快且文本分类准确率也令人满意（这也是fastText名称的由来）！\n",
    "\n",
    "https://zhuanlan.zhihu.com/p/375614469"
   ]
  },
  {
   "cell_type": "code",
   "execution_count": 1,
   "metadata": {},
   "outputs": [
    {
     "name": "stderr",
     "output_type": "stream",
     "text": [
      "/home/renlei/miniconda3/envs/pytorch_py37/lib/python3.7/site-packages/tqdm/auto.py:21: TqdmWarning: IProgress not found. Please update jupyter and ipywidgets. See https://ipywidgets.readthedocs.io/en/stable/user_install.html\n",
      "  from .autonotebook import tqdm as notebook_tqdm\n"
     ]
    }
   ],
   "source": [
    "import torch\n",
    "from torch.autograd._functions import tensor\n",
    "import torch.nn as nn\n",
    "import torch.nn.functional as F\n",
    "\n",
    "class fastText(nn.Module):\n",
    "    def __init__(self, vocab_size, twoGrams_size, threeGrams_size, embed_size, hidden_size, output_size, embedding_pretrained=None):\n",
    "        super(fastText, self).__init__()\n",
    "\n",
    "        #Embedding layer\n",
    "        if embedding_pretrained is None:#default\n",
    "            self.embedding_word = nn.Embedding(vocab_size, embed_size)\n",
    "        else:#使用预训练词向量\n",
    "            self.embedding_word = nn.Embedding.from_pretrained(embedding_pretrained, freeze=False)\n",
    "        #self.embedding_word.weight.requires_grad = True\n",
    "        self.embedding_2gram = nn.Embedding(twoGrams_size, embed_size)\n",
    "        self.embedding_3gram = nn.Embedding(threeGrams_size, embed_size)\n",
    "        self.dropout = nn.Dropout(p=0.5)\n",
    "        \n",
    "        #Hidden layer\n",
    "        self.hidden = nn.Linear(embed_size, hidden_size)\n",
    "        #Output layer\n",
    "        self.output = nn.Linear(hidden_size, output_size)\n",
    "\n",
    "    def forward(self, x):\n",
    "        \"\"\"Args: Tensor\n",
    "            x[0]: word\n",
    "            x[1]: 2grams\n",
    "            x[2]: 3grams\n",
    "        \"\"\"\n",
    "        #x: (word, 2_gram, 3_gram), word, 2_gram和3_gram形状都是(batch_size, *)\n",
    "        e_word = self.embedding_word(x[0])#e_word: (batch_size, seq_len_word, embed_size)\n",
    "        e_2gram = self.embedding_2gram(x[1])#e_2gram: (batch_size, seq_len_2gram, embed_size)\n",
    "        e_3gram = self.embedding_3gram(x[2])#e_3gram: (batch_size, seq_len_3gram, embed_size)\n",
    "        e_cat = torch.cat((e_word, e_2gram, e_3gram), dim=1)\n",
    "        e_avg = e_cat.mean(dim=1)\n",
    "        h = self.hidden(self.dropout(e_avg))#input: (batch_size, embed_size), h:(batch_size, hidden_size)\n",
    "        o = F.softmax(self.output(h), dim=1)#o: (batch_size, output_size)\n",
    "        return o, {\n",
    "            \"embedding_word\": e_word,\n",
    "            \"embedding_2gram\": e_2gram,\n",
    "            \"embedding_3gram\": e_3gram,\n",
    "            \"e_cat\": e_cat,\n",
    "            \"e_avg\": e_avg,\n",
    "            \"hidden\": h\n",
    "        }"
   ]
  },
  {
   "cell_type": "markdown",
   "metadata": {},
   "source": [
    "网络结构如下\n",
    "\n",
    "![](fasttext-simplecase.jpg)"
   ]
  },
  {
   "cell_type": "code",
   "execution_count": 2,
   "metadata": {},
   "outputs": [
    {
     "name": "stdout",
     "output_type": "stream",
     "text": [
      "fastText(\n",
      "  (embedding_word): Embedding(10, 128)\n",
      "  (embedding_2gram): Embedding(20, 128)\n",
      "  (embedding_3gram): Embedding(30, 128)\n",
      "  (dropout): Dropout(p=0.5, inplace=False)\n",
      "  (hidden): Linear(in_features=128, out_features=256, bias=True)\n",
      "  (output): Linear(in_features=256, out_features=16, bias=True)\n",
      ")\n",
      "embedding_word: torch.Size([1, 5, 128])\n",
      "embedding_2gram: torch.Size([1, 4, 128])\n",
      "embedding_3gram: torch.Size([1, 3, 128])\n",
      "e_cat: torch.Size([1, 12, 128])\n",
      "e_avg: torch.Size([1, 128])\n",
      "hidden: torch.Size([1, 256])\n",
      "output torch.Size([1, 16])\n"
     ]
    }
   ],
   "source": [
    "vocab_size = 10\n",
    "twoGrams_size = 20 \n",
    "threeGrams_size = 30\n",
    "embed_size = 128\n",
    "hidden_size = 256 \n",
    "output_size = 16\n",
    "ft = fastText(vocab_size, twoGrams_size, threeGrams_size, embed_size, hidden_size, output_size)\n",
    "print(ft)\n",
    "\n",
    "x_0 = torch.LongTensor([[1,2,3,3,5]])#batch_size = 1, seq_len = 5\n",
    "x_1 = torch.LongTensor([[1,2,3,4]])#batch_size =1, seq_len = 4\n",
    "x_2 = torch.LongTensor([[1,2,3]])#batch_size=1, seq_len=3\n",
    "x = (x_0, x_1, x_2)\n",
    "output, tmp = ft(x)\n",
    "print(\"embedding_word:\", tmp[\"embedding_word\"].size())\n",
    "print(\"embedding_2gram:\", tmp[\"embedding_2gram\"].size())\n",
    "print(\"embedding_3gram:\", tmp[\"embedding_3gram\"].size())\n",
    "print(\"e_cat:\", tmp[\"e_cat\"].size())\n",
    "print(\"e_avg:\", tmp[\"e_avg\"].size())\n",
    "print(\"hidden:\", tmp[\"hidden\"].size())\n",
    "print(\"output\", output.size())"
   ]
  },
  {
   "cell_type": "code",
   "execution_count": 4,
   "metadata": {},
   "outputs": [
    {
     "name": "stdout",
     "output_type": "stream",
     "text": [
      "fastText(\n",
      "  (embedding_word): Embedding(10, 128)\n",
      "  (embedding_2gram): Embedding(20, 128)\n",
      "  (embedding_3gram): Embedding(30, 128)\n",
      "  (dropout): Dropout(p=0.5, inplace=False)\n",
      "  (hidden): Linear(in_features=128, out_features=256, bias=True)\n",
      "  (output): Linear(in_features=256, out_features=16, bias=True)\n",
      ")\n"
     ]
    }
   ],
   "source": [
    "print(ft)"
   ]
  }
 ],
 "metadata": {
  "kernelspec": {
   "display_name": "pytorch_py37\n",
   "language": "python",
   "name": "pytorch_py37"
  },
  "language_info": {
   "codemirror_mode": {
    "name": "ipython",
    "version": 3
   },
   "file_extension": ".py",
   "mimetype": "text/x-python",
   "name": "python",
   "nbconvert_exporter": "python",
   "pygments_lexer": "ipython3",
   "version": "3.7.16"
  }
 },
 "nbformat": 4,
 "nbformat_minor": 2
}
