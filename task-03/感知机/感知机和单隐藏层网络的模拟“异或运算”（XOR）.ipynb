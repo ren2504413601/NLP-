{
 "cells": [
  {
   "cell_type": "markdown",
   "metadata": {},
   "source": [
    "# XOR\n",
    "**异或，英文为exclusive OR，缩写成xor。异或（xor）是一个数学运算符**\n",
    "## 1、感知机模型\n",
    "感知机模型可以简单的理解为单层的神经网络。感知机接收多个输入信号，输出一个信号。下图展示了一个简单的两个输入信号的感知机模型\n",
    "![](感知机.jpg)"
   ]
  },
  {
   "cell_type": "markdown",
   "metadata": {},
   "source": [
    "## 2、异或运算\n",
    "异或操作直观来说就是如果两个输入的符号相同时（同为正或者同为负）则输出0，否则（一个正一个负）输出为1。\n",
    "\n",
    "数学逻辑语言可以表示为：$a \\oplus b=(\\neg a \\land b)\\lor(a \\land \\neg b)$\n",
    "\n",
    "其中$\\oplus$表示异或算子，$\\neg$表示非（逆）运算，即当$a=1$时，$\\neg a=0$；而$a=0$时，$\\neg a=1$。$\\land$和$\\lor$分别表示求交集和并集运算。"
   ]
  },
  {
   "cell_type": "markdown",
   "metadata": {},
   "source": [
    "然而，值的注意的是，感知机是无法模拟异或运算的。这在1969被证明，具体可以了解书籍 Perceptrons:An Introduction to Computational Geometry\n",
    "\n",
    "以下我们基于tensorflow说明这一事实，另外再加入了隐藏层之后，异或运算可以实现模拟。"
   ]
  },
  {
   "cell_type": "markdown",
   "metadata": {},
   "source": [
    "## 3、基于tf的Perception模型和单隐藏层nn实现"
   ]
  },
  {
   "cell_type": "markdown",
   "metadata": {},
   "source": [
    "#### 3.1、Perception 模型"
   ]
  },
  {
   "cell_type": "code",
   "execution_count": null,
   "metadata": {},
   "outputs": [],
   "source": [
    "import tensorflow as tf\n",
    "import numpy as np\n",
    "# init data\n",
    "x_data=np.array([[1,1],[1,0],[0,1],[0,0]],dtype=np.int)\n",
    "y_data=np.array([[0],[1],[1],[0]],dtype=np.int)\n",
    "\n",
    "# define tf placeholder\n",
    "x=tf.placeholder(tf.float32,[None,2],name='x-input')\n",
    "y=tf.placeholder(tf.float32,[None,1],name='y-input')\n",
    "\n",
    "# define parameters\n",
    "w=tf.Variable(tf.random_normal([2,1]))\n",
    "b=tf.Variable([0.1])\n",
    "\n",
    "# model init\n",
    "out=tf.nn.relu(tf.matmul(x,w)+b)\n",
    "\n",
    "loss=tf.reduce_mean(tf.square(y-out))# 含隐藏层的网络\n",
    "\n",
    "opt=tf.train.AdamOptimizer(0.01).minimize(loss)\n",
    "init=tf.global_variables_initializer()\n",
    "fd={x:x_data,y:y_data}\n",
    "sess=tf.Session()\n",
    "sess.run(init)\n",
    "for i in range(2000):\n",
    "    _,per_loss=sess.run([opt,loss],feed_dict=fd)\n",
    "    if (i%10)==0:# 10次输出一下结果\n",
    "        print('step{},nn loss is:{}'.format(i,per_loss))"
   ]
  },
  {
   "cell_type": "markdown",
   "metadata": {},
   "source": [
    "#### 3.2、单隐藏层的nn模型"
   ]
  },
  {
   "cell_type": "code",
   "execution_count": null,
   "metadata": {},
   "outputs": [],
   "source": [
    "import tensorflow as tf\n",
    "import numpy as np\n",
    "# init data\n",
    "x_data=np.array([[1,1],[1,0],[0,1],[0,0]],dtype=np.int)\n",
    "y_data=np.array([[0],[1],[1],[0]],dtype=np.int)\n",
    "\n",
    "# define tf placeholder\n",
    "x=tf.placeholder(tf.float32,[None,2],name='x-input')\n",
    "y=tf.placeholder(tf.float32,[None,1],name='y-input')\n",
    "\n",
    "# define parameters\n",
    "w1=tf.Variable(tf.random_normal([2,2]))\n",
    "w2=tf.Variable(tf.random_normal([2,1]))\n",
    "b1=tf.Variable([0.1,0.1])\n",
    "b2=tf.Variable([0.1])\n",
    "\n",
    "# model init\n",
    "out1=tf.nn.relu(tf.matmul(x,w1)+b1)\n",
    "out2=tf.matmul(out1,w2)+b2\n",
    "\n",
    "\n",
    "loss=tf.reduce_mean(tf.square(y-out2))# 含隐藏层的网络\n",
    "\n",
    "\n",
    "opt=tf.train.AdamOptimizer(0.01).minimize(loss)\n",
    "init=tf.global_variables_initializer()\n",
    "fd={x:x_data,y:y_data}\n",
    "sess=tf.Session()\n",
    "sess.run(init)\n",
    "for i in range(2000):\n",
    "    _,nn_loss=sess.run([opt,loss],feed_dict=fd)\n",
    "    if (i%10)==0:# 10次输出一下结果\n",
    "        print('step{},nn loss is:{}'.format(i,nn_loss))"
   ]
  },
  {
   "cell_type": "markdown",
   "metadata": {},
   "source": [
    "**再附上tensorflow playground的结果：**"
   ]
  },
  {
   "cell_type": "markdown",
   "metadata": {},
   "source": [
    "![](perception.png)\n",
    "**明显看到，当没有隐藏层使用感知机来模拟异或操作效果比较差，损失函数取值表较大。**\n",
    "![](1_hidden.png)\n",
    "**使用含隐藏层的神经网络模型在合适的参数之下能很好的拟合异或操作，损失函数在很短时间之内接近0**"
   ]
  }
 ],
 "metadata": {
  "kernelspec": {
   "display_name": "Python [conda env:.conda-tensorflow]",
   "language": "python",
   "name": "conda-env-.conda-tensorflow-py"
  },
  "language_info": {
   "codemirror_mode": {
    "name": "ipython",
    "version": 3
   },
   "file_extension": ".py",
   "mimetype": "text/x-python",
   "name": "python",
   "nbconvert_exporter": "python",
   "pygments_lexer": "ipython3",
   "version": "3.6.8"
  }
 },
 "nbformat": 4,
 "nbformat_minor": 2
}
