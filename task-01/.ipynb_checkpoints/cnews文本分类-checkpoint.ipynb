{
 "cells": [
  {
   "cell_type": "markdown",
   "metadata": {},
   "source": [
    "### 影评文本分类\n",
    "\n",
    "参考：https://tensorflow.google.cn/tutorials/keras/basic_text_classification"
   ]
  },
  {
   "cell_type": "code",
   "execution_count": 1,
   "metadata": {},
   "outputs": [
    {
     "name": "stderr",
     "output_type": "stream",
     "text": [
      "Using TensorFlow backend.\n"
     ]
    },
    {
     "name": "stdout",
     "output_type": "stream",
     "text": [
      "(25000,) (25000,)\n",
      "218 189\n"
     ]
    }
   ],
   "source": [
    "import tensorflow as tf\n",
    "import keras\n",
    "\n",
    "imdb = keras.datasets.imdb\n",
    "(train_data, train_labels), (test_data, test_labels) = imdb.load_data(num_words=10000)\n",
    "print(train_data.shape,test_data.shape)\n",
    "print(len(train_data[0]),len(train_data[1]))"
   ]
  },
  {
   "cell_type": "code",
   "execution_count": 2,
   "metadata": {},
   "outputs": [
    {
     "name": "stdout",
     "output_type": "stream",
     "text": [
      "Downloading data from https://s3.amazonaws.com/text-datasets/imdb_word_index.json\n",
      "1646592/1641221 [==============================] - 85s 52us/step\n",
      "[   1   14   22   16   43  530  973 1622 1385   65  458 4468   66 3941\n",
      "    4  173   36  256    5   25  100   43  838  112   50  670    2    9\n",
      "   35  480  284    5  150    4  172  112  167    2  336  385   39    4\n",
      "  172 4536 1111   17  546   38   13  447    4  192   50   16    6  147\n",
      " 2025   19   14   22    4 1920 4613  469    4   22   71   87   12   16\n",
      "   43  530   38   76   15   13 1247    4   22   17  515   17   12   16\n",
      "  626   18    2    5   62  386   12    8  316    8  106    5    4 2223\n",
      " 5244   16  480   66 3785   33    4  130   12   16   38  619    5   25\n",
      "  124   51   36  135   48   25 1415   33    6   22   12  215   28   77\n",
      "   52    5   14  407   16   82    2    8    4  107  117 5952   15  256\n",
      "    4    2    7 3766    5  723   36   71   43  530  476   26  400  317\n",
      "   46    7    4    2 1029   13  104   88    4  381   15  297   98   32\n",
      " 2071   56   26  141    6  194 7486   18    4  226   22   21  134  476\n",
      "   26  480    5  144   30 5535   18   51   36   28  224   92   25  104\n",
      "    4  226   65   16   38 1334   88   12   16  283    5   16 4472  113\n",
      "  103   32   15   16 5345   19  178   32    0    0    0    0    0    0\n",
      "    0    0    0    0    0    0    0    0    0    0    0    0    0    0\n",
      "    0    0    0    0    0    0    0    0    0    0    0    0    0    0\n",
      "    0    0    0    0]\n"
     ]
    }
   ],
   "source": [
    "## 将整数转换回字词\n",
    "# A dictionary mapping words to an integer index\n",
    "word_index = imdb.get_word_index()\n",
    "\n",
    "# The first indices are reserved\n",
    "word_index = {k:(v+3) for k,v in word_index.items()}\n",
    "word_index[\"<PAD>\"] = 0\n",
    "word_index[\"<START>\"] = 1\n",
    "word_index[\"<UNK>\"] = 2  # unknown\n",
    "word_index[\"<UNUSED>\"] = 3\n",
    "\n",
    "reverse_word_index = dict([(value, key) for (key, value) in word_index.items()])\n",
    "\n",
    "def decode_review(text):\n",
    "    return ' '.join([reverse_word_index.get(i, '?') for i in text])\n",
    "# 使用 decode_review 函数显示第一条影评的文本\n",
    "decode_review(train_data[0])\n",
    "\n",
    "# 由于影评的长度必须相同，我们将使用 pad_sequences 函数将长度标准化\n",
    "train_data = keras.preprocessing.sequence.pad_sequences(train_data,\n",
    "                                                        value=word_index[\"<PAD>\"],\n",
    "                                                        padding='post',\n",
    "                                                        maxlen=256)\n",
    "\n",
    "test_data = keras.preprocessing.sequence.pad_sequences(test_data,\n",
    "                                                       value=word_index[\"<PAD>\"],\n",
    "                                                       padding='post',\n",
    "                                                       maxlen=256)\n",
    "# 查看文本长度及第一条文本\n",
    "len(train_data[0]), len(train_data[1])\n",
    "print(train_data[0])"
   ]
  },
  {
   "cell_type": "code",
   "execution_count": 3,
   "metadata": {},
   "outputs": [
    {
     "name": "stdout",
     "output_type": "stream",
     "text": [
      "_________________________________________________________________\n",
      "Layer (type)                 Output Shape              Param #   \n",
      "=================================================================\n",
      "embedding_1 (Embedding)      (None, None, 16)          160000    \n",
      "_________________________________________________________________\n",
      "global_average_pooling1d_1 ( (None, 16)                0         \n",
      "_________________________________________________________________\n",
      "dense_1 (Dense)              (None, 16)                272       \n",
      "_________________________________________________________________\n",
      "dense_2 (Dense)              (None, 1)                 17        \n",
      "=================================================================\n",
      "Total params: 160,289\n",
      "Trainable params: 160,289\n",
      "Non-trainable params: 0\n",
      "_________________________________________________________________\n"
     ]
    }
   ],
   "source": [
    "## 构建模型\n",
    "# input shape is the vocabulary count used for the movie reviews (10,000 words)\n",
    "vocab_size = 10000\n",
    "\n",
    "model = keras.Sequential()\n",
    "model.add(keras.layers.Embedding(vocab_size, 16))\n",
    "model.add(keras.layers.GlobalAveragePooling1D())\n",
    "model.add(keras.layers.Dense(16, activation=tf.nn.relu))\n",
    "model.add(keras.layers.Dense(1, activation=tf.nn.sigmoid))\n",
    "\n",
    "model.summary()"
   ]
  },
  {
   "cell_type": "code",
   "execution_count": 5,
   "metadata": {},
   "outputs": [],
   "source": [
    "## 这是一个二元分类问题且模型会输出一个概率（应用 S 型激活函数的单个单元层），因此我们将使用 binary_crossentropy 损失函数\n",
    "model.compile(optimizer=tf.train.AdamOptimizer(),\n",
    "              loss='binary_crossentropy',\n",
    "              metrics=['accuracy'])"
   ]
  },
  {
   "cell_type": "code",
   "execution_count": 6,
   "metadata": {},
   "outputs": [],
   "source": [
    "## 创建验证集(使用前10000个样本)\n",
    "x_val = train_data[:10000]\n",
    "partial_x_train = train_data[10000:]\n",
    "\n",
    "y_val = train_labels[:10000]\n",
    "partial_y_train = train_labels[10000:]"
   ]
  },
  {
   "cell_type": "code",
   "execution_count": 7,
   "metadata": {},
   "outputs": [
    {
     "name": "stdout",
     "output_type": "stream",
     "text": [
      "Train on 15000 samples, validate on 10000 samples\n",
      "Epoch 1/40\n",
      "15000/15000 [==============================] - 4s 251us/step - loss: 0.6914 - acc: 0.6173 - val_loss: 0.6891 - val_acc: 0.5933\n",
      "Epoch 2/40\n",
      "15000/15000 [==============================] - 2s 119us/step - loss: 0.6842 - acc: 0.7250 - val_loss: 0.6792 - val_acc: 0.7525\n",
      "Epoch 3/40\n",
      "15000/15000 [==============================] - 2s 130us/step - loss: 0.6689 - acc: 0.7544 - val_loss: 0.6596 - val_acc: 0.7374\n",
      "Epoch 4/40\n",
      "15000/15000 [==============================] - 2s 123us/step - loss: 0.6412 - acc: 0.7745 - val_loss: 0.6287 - val_acc: 0.7767\n",
      "Epoch 5/40\n",
      "15000/15000 [==============================] - 2s 130us/step - loss: 0.6014 - acc: 0.8005 - val_loss: 0.5880 - val_acc: 0.7921\n",
      "Epoch 6/40\n",
      "15000/15000 [==============================] - 2s 126us/step - loss: 0.5535 - acc: 0.8199 - val_loss: 0.5438 - val_acc: 0.8072\n",
      "Epoch 7/40\n",
      "15000/15000 [==============================] - 2s 112us/step - loss: 0.5024 - acc: 0.8391 - val_loss: 0.4971 - val_acc: 0.8234\n",
      "Epoch 8/40\n",
      "15000/15000 [==============================] - 2s 112us/step - loss: 0.4535 - acc: 0.8546 - val_loss: 0.4557 - val_acc: 0.8394\n",
      "Epoch 9/40\n",
      "15000/15000 [==============================] - 2s 125us/step - loss: 0.4100 - acc: 0.8688 - val_loss: 0.4205 - val_acc: 0.8497\n",
      "Epoch 10/40\n",
      "15000/15000 [==============================] - 2s 128us/step - loss: 0.3731 - acc: 0.8801 - val_loss: 0.3925 - val_acc: 0.8543\n",
      "Epoch 11/40\n",
      "15000/15000 [==============================] - 2s 125us/step - loss: 0.3423 - acc: 0.8885 - val_loss: 0.3700 - val_acc: 0.8622\n",
      "Epoch 12/40\n",
      "15000/15000 [==============================] - 2s 127us/step - loss: 0.3169 - acc: 0.8944 - val_loss: 0.3520 - val_acc: 0.8688\n",
      "Epoch 13/40\n",
      "15000/15000 [==============================] - 2s 127us/step - loss: 0.2953 - acc: 0.9005 - val_loss: 0.3395 - val_acc: 0.8673\n",
      "Epoch 14/40\n",
      "15000/15000 [==============================] - 2s 131us/step - loss: 0.2767 - acc: 0.9055 - val_loss: 0.3268 - val_acc: 0.8742\n",
      "Epoch 15/40\n",
      "15000/15000 [==============================] - 2s 120us/step - loss: 0.2602 - acc: 0.9105 - val_loss: 0.3174 - val_acc: 0.8769\n",
      "Epoch 16/40\n",
      "15000/15000 [==============================] - 2s 123us/step - loss: 0.2456 - acc: 0.9163 - val_loss: 0.3106 - val_acc: 0.8784\n",
      "Epoch 17/40\n",
      "15000/15000 [==============================] - 2s 122us/step - loss: 0.2327 - acc: 0.9204 - val_loss: 0.3039 - val_acc: 0.8802\n",
      "Epoch 18/40\n",
      "15000/15000 [==============================] - 2s 132us/step - loss: 0.2209 - acc: 0.9242 - val_loss: 0.2994 - val_acc: 0.8809\n",
      "Epoch 19/40\n",
      "15000/15000 [==============================] - 2s 143us/step - loss: 0.2100 - acc: 0.9275 - val_loss: 0.2956 - val_acc: 0.8824\n",
      "Epoch 20/40\n",
      "15000/15000 [==============================] - 2s 128us/step - loss: 0.1999 - acc: 0.9312 - val_loss: 0.2923 - val_acc: 0.8837\n",
      "Epoch 21/40\n",
      "15000/15000 [==============================] - 2s 129us/step - loss: 0.1905 - acc: 0.9362 - val_loss: 0.2897 - val_acc: 0.8835\n",
      "Epoch 22/40\n",
      "15000/15000 [==============================] - 2s 129us/step - loss: 0.1819 - acc: 0.9404 - val_loss: 0.2881 - val_acc: 0.8842\n",
      "Epoch 23/40\n",
      "15000/15000 [==============================] - 2s 113us/step - loss: 0.1742 - acc: 0.9436 - val_loss: 0.2868 - val_acc: 0.8846\n",
      "Epoch 24/40\n",
      "15000/15000 [==============================] - 2s 109us/step - loss: 0.1671 - acc: 0.9466 - val_loss: 0.2861 - val_acc: 0.8846\n",
      "Epoch 25/40\n",
      "15000/15000 [==============================] - 2s 111us/step - loss: 0.1588 - acc: 0.9499 - val_loss: 0.2860 - val_acc: 0.8856\n",
      "Epoch 26/40\n",
      "15000/15000 [==============================] - 2s 119us/step - loss: 0.1524 - acc: 0.9525 - val_loss: 0.2867 - val_acc: 0.8850\n",
      "Epoch 27/40\n",
      "15000/15000 [==============================] - 2s 127us/step - loss: 0.1460 - acc: 0.9549 - val_loss: 0.2874 - val_acc: 0.8854\n",
      "Epoch 28/40\n",
      "15000/15000 [==============================] - 2s 118us/step - loss: 0.1397 - acc: 0.9575 - val_loss: 0.2876 - val_acc: 0.8853\n",
      "Epoch 29/40\n",
      "15000/15000 [==============================] - 2s 110us/step - loss: 0.1340 - acc: 0.9604 - val_loss: 0.2889 - val_acc: 0.8858\n",
      "Epoch 30/40\n",
      "15000/15000 [==============================] - 2s 133us/step - loss: 0.1285 - acc: 0.9625 - val_loss: 0.2909 - val_acc: 0.8865\n",
      "Epoch 31/40\n",
      "15000/15000 [==============================] - 2s 131us/step - loss: 0.1237 - acc: 0.9639 - val_loss: 0.2919 - val_acc: 0.8864\n",
      "Epoch 32/40\n",
      "15000/15000 [==============================] - 2s 124us/step - loss: 0.1184 - acc: 0.9657 - val_loss: 0.2938 - val_acc: 0.8869\n",
      "Epoch 33/40\n",
      "15000/15000 [==============================] - 2s 127us/step - loss: 0.1139 - acc: 0.9684 - val_loss: 0.2960 - val_acc: 0.8856\n",
      "Epoch 34/40\n",
      "15000/15000 [==============================] - 2s 125us/step - loss: 0.1090 - acc: 0.9701 - val_loss: 0.2988 - val_acc: 0.8849\n",
      "Epoch 35/40\n",
      "15000/15000 [==============================] - 2s 143us/step - loss: 0.1050 - acc: 0.9706 - val_loss: 0.3026 - val_acc: 0.8857\n",
      "Epoch 36/40\n",
      "15000/15000 [==============================] - 2s 120us/step - loss: 0.1011 - acc: 0.9726 - val_loss: 0.3057 - val_acc: 0.8832\n",
      "Epoch 37/40\n",
      "15000/15000 [==============================] - 2s 119us/step - loss: 0.0969 - acc: 0.9746 - val_loss: 0.3087 - val_acc: 0.8838\n",
      "Epoch 38/40\n",
      "15000/15000 [==============================] - 2s 128us/step - loss: 0.0930 - acc: 0.9764 - val_loss: 0.3110 - val_acc: 0.8824\n",
      "Epoch 39/40\n",
      "15000/15000 [==============================] - 2s 131us/step - loss: 0.0888 - acc: 0.9774 - val_loss: 0.3143 - val_acc: 0.8835\n",
      "Epoch 40/40\n",
      "15000/15000 [==============================] - 2s 132us/step - loss: 0.0852 - acc: 0.9787 - val_loss: 0.3182 - val_acc: 0.8814\n"
     ]
    }
   ],
   "source": [
    "## 训练模型\n",
    "history = model.fit(partial_x_train,\n",
    "                    partial_y_train,\n",
    "                    epochs=40,\n",
    "                    batch_size=512,\n",
    "                    validation_data=(x_val, y_val),\n",
    "                    verbose=1)"
   ]
  },
  {
   "cell_type": "code",
   "execution_count": 8,
   "metadata": {},
   "outputs": [
    {
     "name": "stdout",
     "output_type": "stream",
     "text": [
      "25000/25000 [==============================] - 1s 35us/step\n",
      "[0.3412599616765976, 0.869]\n"
     ]
    }
   ],
   "source": [
    "## 评估模型\n",
    "results = model.evaluate(test_data, test_labels)\n",
    "print(results)"
   ]
  },
  {
   "cell_type": "code",
   "execution_count": 10,
   "metadata": {},
   "outputs": [
    {
     "data": {
      "image/png": "[encoded data removed]",
      "text/plain": [
       "<Figure size 432x288 with 1 Axes>"
      ]
     },
     "metadata": {
      "needs_background": "light"
     },
     "output_type": "display_data"
    },
    {
     "data": {
      "image/png": "[encoded data removed]",
      "text/plain": [
       "<Figure size 432x288 with 1 Axes>"
      ]
     },
     "metadata": {
      "needs_background": "light"
     },
     "output_type": "display_data"
    }
   ],
   "source": [
    "## 创建准确率和损失随时间变化的图\n",
    "history_dict = history.history\n",
    "history_dict.keys()\n",
    "\n",
    "import matplotlib.pyplot as plt\n",
    "\n",
    "acc = history.history['acc']\n",
    "val_acc = history.history['val_acc']\n",
    "loss = history.history['loss']\n",
    "val_loss = history.history['val_loss']\n",
    "\n",
    "epochs = range(1, len(acc) + 1)\n",
    "\n",
    "# \"bo\" is for \"blue dot\"\n",
    "plt.plot(epochs, loss, 'bo', label='Training loss')\n",
    "# b is for \"solid blue line\"\n",
    "plt.plot(epochs, val_loss, 'b', label='Validation loss')\n",
    "plt.title('Training and validation loss')\n",
    "plt.xlabel('Epochs')\n",
    "plt.ylabel('Loss')\n",
    "plt.legend()\n",
    "\n",
    "plt.show()\n",
    "\n",
    "plt.clf()   # clear figure\n",
    "acc_values = history_dict['acc']\n",
    "val_acc_values = history_dict['val_acc']\n",
    "\n",
    "plt.plot(epochs, acc, 'bo', label='Training acc')\n",
    "plt.plot(epochs, val_acc, 'b', label='Validation acc')\n",
    "plt.title('Training and validation accuracy')\n",
    "plt.xlabel('Epochs')\n",
    "plt.ylabel('Accuracy')\n",
    "plt.legend()\n",
    "\n",
    "plt.show()"
   ]
  }
 ],
 "metadata": {
  "kernelspec": {
   "display_name": "Python [conda env:.conda-tensorflow]",
   "language": "python",
   "name": "conda-env-.conda-tensorflow-py"
  },
  "language_info": {
   "codemirror_mode": {
    "name": "ipython",
    "version": 3
   },
   "file_extension": ".py",
   "mimetype": "text/x-python",
   "name": "python",
   "nbconvert_exporter": "python",
   "pygments_lexer": "ipython3",
   "version": "3.6.8"
  }
 },
 "nbformat": 4,
 "nbformat_minor": 2
}
