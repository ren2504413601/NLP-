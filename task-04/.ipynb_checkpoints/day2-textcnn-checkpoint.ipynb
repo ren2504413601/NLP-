{
 "cells": [
  {
   "cell_type": "markdown",
   "metadata": {},
   "source": [
    "## textcnn\n",
    "![](textcnn.png)\n",
    "![](textcnn_model.png)\n",
    "**参考：**https://www.cnblogs.com/bymo/p/9675654.html\n",
    "\n",
    "**文本分类问题综述:**https://zhuanlan.zhihu.com/p/25928551"
   ]
  },
  {
   "cell_type": "markdown",
   "metadata": {},
   "source": [
    "### keras 实现"
   ]
  },
  {
   "cell_type": "code",
   "execution_count": 1,
   "metadata": {},
   "outputs": [
    {
     "name": "stderr",
     "output_type": "stream",
     "text": [
      "Using TensorFlow backend.\n"
     ]
    }
   ],
   "source": [
    "import logging\n",
    "\n",
    "from keras import Input\n",
    "from keras.layers import Conv1D, MaxPool1D, Dense, Flatten, concatenate, Embedding\n",
    "from keras.models import Model\n",
    "from keras.utils import plot_model\n",
    "\n",
    "\n",
    "def textcnn(max_sequence_length, max_token_num, embedding_dim, output_dim, model_img_path=None, embedding_matrix=None):\n",
    "    \"\"\" TextCNN: 1. embedding layers, 2.convolution layer, 3.max-pooling, 4.softmax layer. \"\"\"\n",
    "    x_input = Input(shape=(max_sequence_length,))\n",
    "    logging.info(\"x_input.shape: %s\" % str(x_input.shape))  # (?, 60)\n",
    "\n",
    "    if embedding_matrix is None:\n",
    "        x_emb = Embedding(input_dim=max_token_num, output_dim=embedding_dim, input_length=max_sequence_length)(x_input)\n",
    "    else:\n",
    "        x_emb = Embedding(input_dim=max_token_num, output_dim=embedding_dim, input_length=max_sequence_length,\n",
    "                          weights=[embedding_matrix], trainable=True)(x_input)\n",
    "    logging.info(\"x_emb.shape: %s\" % str(x_emb.shape))  # (?, 60, 300)\n",
    "\n",
    "    pool_output = []\n",
    "    kernel_sizes = [2, 3, 4] \n",
    "    for kernel_size in kernel_sizes:\n",
    "        c = Conv1D(filters=2, kernel_size=kernel_size, strides=1)(x_emb)\n",
    "        p = MaxPool1D(pool_size=int(c.shape[1]))(c)\n",
    "        pool_output.append(p)\n",
    "        logging.info(\"kernel_size: %s \\t c.shape: %s \\t p.shape: %s\" % (kernel_size, str(c.shape), str(p.shape)))\n",
    "    pool_output = concatenate([p for p in pool_output])\n",
    "    logging.info(\"pool_output.shape: %s\" % str(pool_output.shape))  # (?, 1, 6)\n",
    "\n",
    "    x_flatten = Flatten()(pool_output)  # (?, 6)\n",
    "    y = Dense(output_dim, activation='softmax')(x_flatten)  # (?, 2)\n",
    "    logging.info(\"y.shape: %s \\n\" % str(y.shape))\n",
    "\n",
    "    model = Model([x_input], outputs=[y])\n",
    "    if model_img_path:\n",
    "        plot_model(model, to_file=model_img_path, show_shapes=True, show_layer_names=False)\n",
    "    model.summary()\n",
    "    return model"
   ]
  }
 ],
 "metadata": {
  "kernelspec": {
   "display_name": "Python [conda env:.conda-tensorflow]",
   "language": "python",
   "name": "conda-env-.conda-tensorflow-py"
  },
  "language_info": {
   "codemirror_mode": {
    "name": "ipython",
    "version": 3
   },
   "file_extension": ".py",
   "mimetype": "text/x-python",
   "name": "python",
   "nbconvert_exporter": "python",
   "pygments_lexer": "ipython3",
   "version": "3.6.8"
  }
 },
 "nbformat": 4,
 "nbformat_minor": 2
}
