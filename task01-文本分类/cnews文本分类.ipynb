{
 "cells": [
  {
   "cell_type": "markdown",
   "metadata": {},
   "source": [
    "### 影评文本分类\n",
    "\n",
    "参考：https://tensorflow.google.cn/tutorials/keras/basic_text_classification"
   ]
  },
  {
   "cell_type": "code",
   "execution_count": 2,
   "metadata": {},
   "outputs": [
    {
     "name": "stdout",
     "output_type": "stream",
     "text": [
      "(25000,) (25000,)\n",
      "218 189\n"
     ]
    },
    {
     "name": "stderr",
     "output_type": "stream",
     "text": [
      "/home/renlei/miniconda3/envs/tensorflow1_15_py37/lib/python3.7/site-packages/tensorflow_core/python/keras/datasets/imdb.py:129: VisibleDeprecationWarning: Creating an ndarray from ragged nested sequences (which is a list-or-tuple of lists-or-tuples-or ndarrays with different lengths or shapes) is deprecated. If you meant to do this, you must specify 'dtype=object' when creating the ndarray.\n",
      "  x_train, y_train = np.array(xs[:idx]), np.array(labels[:idx])\n",
      "/home/renlei/miniconda3/envs/tensorflow1_15_py37/lib/python3.7/site-packages/tensorflow_core/python/keras/datasets/imdb.py:130: VisibleDeprecationWarning: Creating an ndarray from ragged nested sequences (which is a list-or-tuple of lists-or-tuples-or ndarrays with different lengths or shapes) is deprecated. If you meant to do this, you must specify 'dtype=object' when creating the ndarray.\n",
      "  x_test, y_test = np.array(xs[idx:]), np.array(labels[idx:])\n"
     ]
    }
   ],
   "source": [
    "import tensorflow as tf\n",
    "# import keras\n",
    "\n",
    "imdb = tf.keras.datasets.imdb\n",
    "(train_data, train_labels), (test_data, test_labels) = imdb.load_data(num_words=10000)\n",
    "print(train_data.shape,test_data.shape)\n",
    "print(len(train_data[0]),len(train_data[1]))"
   ]
  },
  {
   "cell_type": "code",
   "execution_count": 3,
   "metadata": {},
   "outputs": [
    {
     "data": {
      "text/plain": [
       "[1,\n",
       " 14,\n",
       " 22,\n",
       " 16,\n",
       " 43,\n",
       " 530,\n",
       " 973,\n",
       " 1622,\n",
       " 1385,\n",
       " 65,\n",
       " 458,\n",
       " 4468,\n",
       " 66,\n",
       " 3941,\n",
       " 4,\n",
       " 173,\n",
       " 36,\n",
       " 256,\n",
       " 5,\n",
       " 25,\n",
       " 100,\n",
       " 43,\n",
       " 838,\n",
       " 112,\n",
       " 50,\n",
       " 670,\n",
       " 2,\n",
       " 9,\n",
       " 35,\n",
       " 480,\n",
       " 284,\n",
       " 5,\n",
       " 150,\n",
       " 4,\n",
       " 172,\n",
       " 112,\n",
       " 167,\n",
       " 2,\n",
       " 336,\n",
       " 385,\n",
       " 39,\n",
       " 4,\n",
       " 172,\n",
       " 4536,\n",
       " 1111,\n",
       " 17,\n",
       " 546,\n",
       " 38,\n",
       " 13,\n",
       " 447,\n",
       " 4,\n",
       " 192,\n",
       " 50,\n",
       " 16,\n",
       " 6,\n",
       " 147,\n",
       " 2025,\n",
       " 19,\n",
       " 14,\n",
       " 22,\n",
       " 4,\n",
       " 1920,\n",
       " 4613,\n",
       " 469,\n",
       " 4,\n",
       " 22,\n",
       " 71,\n",
       " 87,\n",
       " 12,\n",
       " 16,\n",
       " 43,\n",
       " 530,\n",
       " 38,\n",
       " 76,\n",
       " 15,\n",
       " 13,\n",
       " 1247,\n",
       " 4,\n",
       " 22,\n",
       " 17,\n",
       " 515,\n",
       " 17,\n",
       " 12,\n",
       " 16,\n",
       " 626,\n",
       " 18,\n",
       " 2,\n",
       " 5,\n",
       " 62,\n",
       " 386,\n",
       " 12,\n",
       " 8,\n",
       " 316,\n",
       " 8,\n",
       " 106,\n",
       " 5,\n",
       " 4,\n",
       " 2223,\n",
       " 5244,\n",
       " 16,\n",
       " 480,\n",
       " 66,\n",
       " 3785,\n",
       " 33,\n",
       " 4,\n",
       " 130,\n",
       " 12,\n",
       " 16,\n",
       " 38,\n",
       " 619,\n",
       " 5,\n",
       " 25,\n",
       " 124,\n",
       " 51,\n",
       " 36,\n",
       " 135,\n",
       " 48,\n",
       " 25,\n",
       " 1415,\n",
       " 33,\n",
       " 6,\n",
       " 22,\n",
       " 12,\n",
       " 215,\n",
       " 28,\n",
       " 77,\n",
       " 52,\n",
       " 5,\n",
       " 14,\n",
       " 407,\n",
       " 16,\n",
       " 82,\n",
       " 2,\n",
       " 8,\n",
       " 4,\n",
       " 107,\n",
       " 117,\n",
       " 5952,\n",
       " 15,\n",
       " 256,\n",
       " 4,\n",
       " 2,\n",
       " 7,\n",
       " 3766,\n",
       " 5,\n",
       " 723,\n",
       " 36,\n",
       " 71,\n",
       " 43,\n",
       " 530,\n",
       " 476,\n",
       " 26,\n",
       " 400,\n",
       " 317,\n",
       " 46,\n",
       " 7,\n",
       " 4,\n",
       " 2,\n",
       " 1029,\n",
       " 13,\n",
       " 104,\n",
       " 88,\n",
       " 4,\n",
       " 381,\n",
       " 15,\n",
       " 297,\n",
       " 98,\n",
       " 32,\n",
       " 2071,\n",
       " 56,\n",
       " 26,\n",
       " 141,\n",
       " 6,\n",
       " 194,\n",
       " 7486,\n",
       " 18,\n",
       " 4,\n",
       " 226,\n",
       " 22,\n",
       " 21,\n",
       " 134,\n",
       " 476,\n",
       " 26,\n",
       " 480,\n",
       " 5,\n",
       " 144,\n",
       " 30,\n",
       " 5535,\n",
       " 18,\n",
       " 51,\n",
       " 36,\n",
       " 28,\n",
       " 224,\n",
       " 92,\n",
       " 25,\n",
       " 104,\n",
       " 4,\n",
       " 226,\n",
       " 65,\n",
       " 16,\n",
       " 38,\n",
       " 1334,\n",
       " 88,\n",
       " 12,\n",
       " 16,\n",
       " 283,\n",
       " 5,\n",
       " 16,\n",
       " 4472,\n",
       " 113,\n",
       " 103,\n",
       " 32,\n",
       " 15,\n",
       " 16,\n",
       " 5345,\n",
       " 19,\n",
       " 178,\n",
       " 32]"
      ]
     },
     "execution_count": 3,
     "metadata": {},
     "output_type": "execute_result"
    }
   ],
   "source": [
    "train_data[0]"
   ]
  },
  {
   "cell_type": "code",
   "execution_count": 4,
   "metadata": {},
   "outputs": [
    {
     "data": {
      "text/plain": [
       "1"
      ]
     },
     "execution_count": 4,
     "metadata": {},
     "output_type": "execute_result"
    }
   ],
   "source": [
    "train_labels[0]"
   ]
  },
  {
   "cell_type": "code",
   "execution_count": 5,
   "metadata": {},
   "outputs": [
    {
     "data": {
      "text/plain": [
       "\"<START> this film was just brilliant casting location scenery story direction everyone's really suited the part they played and you could just imagine being there robert <UNK> is an amazing actor and now the same being director <UNK> father came from the same scottish island as myself so i loved the fact there was a real connection with this film the witty remarks throughout the film were great it was just brilliant so much that i bought the film as soon as it was released for <UNK> and would recommend it to everyone to watch and the fly fishing was amazing really cried at the end it was so sad and you know what they say if you cry at a film it must have been good and this definitely was also <UNK> to the two little boy's that played the <UNK> of norman and paul they were just brilliant children are often left out of the <UNK> list i think because the stars that play them all grown up are such a big profile for the whole film but these children are amazing and should be praised for what they have done don't you think the whole story was so lovely because it was true and was someone's life after all that was shared with us all\""
      ]
     },
     "execution_count": 5,
     "metadata": {},
     "output_type": "execute_result"
    }
   ],
   "source": [
    "## 将整数转换回字词\n",
    "# A dictionary mapping words to an integer index\n",
    "word_index = imdb.get_word_index()\n",
    "\n",
    "# The first indices are reserved\n",
    "word_index = {k:(v+3) for k,v in word_index.items()}\n",
    "word_index[\"<PAD>\"] = 0\n",
    "word_index[\"<START>\"] = 1\n",
    "word_index[\"<UNK>\"] = 2  # unknown\n",
    "word_index[\"<UNUSED>\"] = 3\n",
    "\n",
    "reverse_word_index = dict([(value, key) for (key, value) in word_index.items()])\n",
    "\n",
    "def decode_review(text):\n",
    "    return ' '.join([reverse_word_index.get(i, '?') for i in text])\n",
    "# 使用 decode_review 函数显示第一条影评的文本\n",
    "decode_review(train_data[0])"
   ]
  },
  {
   "cell_type": "code",
   "execution_count": 6,
   "metadata": {},
   "outputs": [
    {
     "data": {
      "text/plain": [
       "(256, 256)"
      ]
     },
     "execution_count": 6,
     "metadata": {},
     "output_type": "execute_result"
    }
   ],
   "source": [
    "# 由于影评的长度必须相同，我们将使用 pad_sequences 函数将长度标准化\n",
    "train_data = tf.keras.preprocessing.sequence.pad_sequences(train_data,\n",
    "                                                        value=word_index[\"<PAD>\"],\n",
    "                                                        padding='post',\n",
    "                                                        maxlen=256)\n",
    "\n",
    "test_data = tf.keras.preprocessing.sequence.pad_sequences(test_data,\n",
    "                                                       value=word_index[\"<PAD>\"],\n",
    "                                                       padding='post',\n",
    "                                                       maxlen=256)\n",
    "# 查看文本长度及第一条文本\n",
    "len(train_data[0]), len(train_data[1])"
   ]
  },
  {
   "cell_type": "code",
   "execution_count": 7,
   "metadata": {},
   "outputs": [
    {
     "name": "stdout",
     "output_type": "stream",
     "text": [
      "[   1   14   22   16   43  530  973 1622 1385   65  458 4468   66 3941\n",
      "    4  173   36  256    5   25  100   43  838  112   50  670    2    9\n",
      "   35  480  284    5  150    4  172  112  167    2  336  385   39    4\n",
      "  172 4536 1111   17  546   38   13  447    4  192   50   16    6  147\n",
      " 2025   19   14   22    4 1920 4613  469    4   22   71   87   12   16\n",
      "   43  530   38   76   15   13 1247    4   22   17  515   17   12   16\n",
      "  626   18    2    5   62  386   12    8  316    8  106    5    4 2223\n",
      " 5244   16  480   66 3785   33    4  130   12   16   38  619    5   25\n",
      "  124   51   36  135   48   25 1415   33    6   22   12  215   28   77\n",
      "   52    5   14  407   16   82    2    8    4  107  117 5952   15  256\n",
      "    4    2    7 3766    5  723   36   71   43  530  476   26  400  317\n",
      "   46    7    4    2 1029   13  104   88    4  381   15  297   98   32\n",
      " 2071   56   26  141    6  194 7486   18    4  226   22   21  134  476\n",
      "   26  480    5  144   30 5535   18   51   36   28  224   92   25  104\n",
      "    4  226   65   16   38 1334   88   12   16  283    5   16 4472  113\n",
      "  103   32   15   16 5345   19  178   32    0    0    0    0    0    0\n",
      "    0    0    0    0    0    0    0    0    0    0    0    0    0    0\n",
      "    0    0    0    0    0    0    0    0    0    0    0    0    0    0\n",
      "    0    0    0    0]\n"
     ]
    }
   ],
   "source": [
    "print(train_data[0])"
   ]
  },
  {
   "cell_type": "code",
   "execution_count": 8,
   "metadata": {},
   "outputs": [
    {
     "name": "stdout",
     "output_type": "stream",
     "text": [
      "WARNING:tensorflow:From /home/renlei/miniconda3/envs/tensorflow1_15_py37/lib/python3.7/site-packages/tensorflow_core/python/keras/initializers.py:119: calling RandomUniform.__init__ (from tensorflow.python.ops.init_ops) with dtype is deprecated and will be removed in a future version.\n",
      "Instructions for updating:\n",
      "Call initializer instance with the dtype argument instead of passing it to the constructor\n",
      "WARNING:tensorflow:From /home/renlei/miniconda3/envs/tensorflow1_15_py37/lib/python3.7/site-packages/tensorflow_core/python/ops/resource_variable_ops.py:1630: calling BaseResourceVariable.__init__ (from tensorflow.python.ops.resource_variable_ops) with constraint is deprecated and will be removed in a future version.\n",
      "Instructions for updating:\n",
      "If using Keras pass *_constraint arguments to layers.\n",
      "Model: \"sequential\"\n",
      "_________________________________________________________________\n",
      "Layer (type)                 Output Shape              Param #   \n",
      "=================================================================\n",
      "embedding (Embedding)        (None, None, 16)          160000    \n",
      "_________________________________________________________________\n",
      "global_average_pooling1d (Gl (None, 16)                0         \n",
      "_________________________________________________________________\n",
      "dense (Dense)                (None, 16)                272       \n",
      "_________________________________________________________________\n",
      "dense_1 (Dense)              (None, 1)                 17        \n",
      "=================================================================\n",
      "Total params: 160,289\n",
      "Trainable params: 160,289\n",
      "Non-trainable params: 0\n",
      "_________________________________________________________________\n"
     ]
    }
   ],
   "source": [
    "## 构建模型\n",
    "# input shape is the vocabulary count used for the movie reviews (10,000 words)\n",
    "vocab_size = 10000\n",
    "\n",
    "model = tf.keras.Sequential()\n",
    "model.add(tf.keras.layers.Embedding(vocab_size, 16))\n",
    "model.add(tf.keras.layers.GlobalAveragePooling1D())\n",
    "model.add(tf.keras.layers.Dense(16, activation=tf.nn.relu))\n",
    "model.add(tf.keras.layers.Dense(1, activation=tf.nn.sigmoid))\n",
    "\n",
    "model.summary()"
   ]
  },
  {
   "cell_type": "code",
   "execution_count": 9,
   "metadata": {},
   "outputs": [
    {
     "name": "stdout",
     "output_type": "stream",
     "text": [
      "WARNING:tensorflow:From /tmp/ipykernel_11398/176279169.py:2: The name tf.train.AdamOptimizer is deprecated. Please use tf.compat.v1.train.AdamOptimizer instead.\n",
      "\n",
      "WARNING:tensorflow:From /home/renlei/miniconda3/envs/tensorflow1_15_py37/lib/python3.7/site-packages/tensorflow_core/python/ops/nn_impl.py:183: where (from tensorflow.python.ops.array_ops) is deprecated and will be removed in a future version.\n",
      "Instructions for updating:\n",
      "Use tf.where in 2.0, which has the same broadcast rule as np.where\n"
     ]
    }
   ],
   "source": [
    "## 这是一个二元分类问题且模型会输出一个概率（应用 S 型激活函数的单个单元层），因此我们将使用 binary_crossentropy 损失函数\n",
    "model.compile(optimizer=tf.train.AdamOptimizer(),\n",
    "              loss='binary_crossentropy',\n",
    "              metrics=['accuracy'])"
   ]
  },
  {
   "cell_type": "code",
   "execution_count": 10,
   "metadata": {},
   "outputs": [],
   "source": [
    "## 创建验证集(使用前10000个样本)\n",
    "x_val = train_data[:10000]\n",
    "partial_x_train = train_data[10000:]\n",
    "\n",
    "y_val = train_labels[:10000]\n",
    "partial_y_train = train_labels[10000:]"
   ]
  },
  {
   "cell_type": "code",
   "execution_count": 11,
   "metadata": {},
   "outputs": [
    {
     "name": "stdout",
     "output_type": "stream",
     "text": [
      "Train on 15000 samples, validate on 10000 samples\n",
      "Epoch 1/40\n",
      "  512/15000 [>.............................] - ETA: 1s - loss: 0.6932 - acc: 0.4766"
     ]
    },
    {
     "name": "stderr",
     "output_type": "stream",
     "text": [
      "2023-12-14 07:16:52.573561: I tensorflow/stream_executor/platform/default/dso_loader.cc:44] Successfully opened dynamic library libcuda.so.1\n",
      "2023-12-14 07:16:52.597133: I tensorflow/stream_executor/cuda/cuda_gpu_executor.cc:983] successful NUMA node read from SysFS had negative value (-1), but there must be at least one NUMA node, so returning NUMA node zero\n",
      "2023-12-14 07:16:52.597199: I tensorflow/core/common_runtime/gpu/gpu_device.cc:1618] Found device 0 with properties: \n",
      "name: NVIDIA GeForce RTX 3060 Ti major: 8 minor: 6 memoryClockRate(GHz): 1.71\n",
      "pciBusID: 0000:01:00.0\n",
      "2023-12-14 07:16:52.597245: W tensorflow/stream_executor/platform/default/dso_loader.cc:55] Could not load dynamic library 'libcudart.so.10.0'; dlerror: libcudart.so.10.0: cannot open shared object file: No such file or directory; LD_LIBRARY_PATH: /home/renlei/TensorRT-8.4.1.5/lib:/usr/local/cuda-11.6/lib64:\n",
      "2023-12-14 07:16:52.597276: W tensorflow/stream_executor/platform/default/dso_loader.cc:55] Could not load dynamic library 'libcublas.so.10.0'; dlerror: libcublas.so.10.0: cannot open shared object file: No such file or directory; LD_LIBRARY_PATH: /home/renlei/TensorRT-8.4.1.5/lib:/usr/local/cuda-11.6/lib64:\n",
      "2023-12-14 07:16:52.597302: W tensorflow/stream_executor/platform/default/dso_loader.cc:55] Could not load dynamic library 'libcufft.so.10.0'; dlerror: libcufft.so.10.0: cannot open shared object file: No such file or directory; LD_LIBRARY_PATH: /home/renlei/TensorRT-8.4.1.5/lib:/usr/local/cuda-11.6/lib64:\n",
      "2023-12-14 07:16:52.597327: W tensorflow/stream_executor/platform/default/dso_loader.cc:55] Could not load dynamic library 'libcurand.so.10.0'; dlerror: libcurand.so.10.0: cannot open shared object file: No such file or directory; LD_LIBRARY_PATH: /home/renlei/TensorRT-8.4.1.5/lib:/usr/local/cuda-11.6/lib64:\n",
      "2023-12-14 07:16:52.597352: W tensorflow/stream_executor/platform/default/dso_loader.cc:55] Could not load dynamic library 'libcusolver.so.10.0'; dlerror: libcusolver.so.10.0: cannot open shared object file: No such file or directory; LD_LIBRARY_PATH: /home/renlei/TensorRT-8.4.1.5/lib:/usr/local/cuda-11.6/lib64:\n",
      "2023-12-14 07:16:52.597378: W tensorflow/stream_executor/platform/default/dso_loader.cc:55] Could not load dynamic library 'libcusparse.so.10.0'; dlerror: libcusparse.so.10.0: cannot open shared object file: No such file or directory; LD_LIBRARY_PATH: /home/renlei/TensorRT-8.4.1.5/lib:/usr/local/cuda-11.6/lib64:\n",
      "2023-12-14 07:16:52.597404: W tensorflow/stream_executor/platform/default/dso_loader.cc:55] Could not load dynamic library 'libcudnn.so.7'; dlerror: libcudnn.so.7: cannot open shared object file: No such file or directory; LD_LIBRARY_PATH: /home/renlei/TensorRT-8.4.1.5/lib:/usr/local/cuda-11.6/lib64:\n",
      "2023-12-14 07:16:52.597407: W tensorflow/core/common_runtime/gpu/gpu_device.cc:1641] Cannot dlopen some GPU libraries. Please make sure the missing libraries mentioned above are installed properly if you would like to use GPU. Follow the guide at https://www.tensorflow.org/install/gpu for how to download and setup the required libraries for your platform.\n",
      "Skipping registering GPU devices...\n",
      "2023-12-14 07:16:52.597822: I tensorflow/core/platform/cpu_feature_guard.cc:142] Your CPU supports instructions that this TensorFlow binary was not compiled to use: AVX2 AVX512F FMA\n",
      "2023-12-14 07:16:52.618207: I tensorflow/core/platform/profile_utils/cpu_utils.cc:94] CPU Frequency: 2496000000 Hz\n",
      "2023-12-14 07:16:52.618603: I tensorflow/compiler/xla/service/service.cc:168] XLA service 0xae5cb30 initialized for platform Host (this does not guarantee that XLA will be used). Devices:\n",
      "2023-12-14 07:16:52.618615: I tensorflow/compiler/xla/service/service.cc:176]   StreamExecutor device (0): Host, Default Version\n",
      "2023-12-14 07:16:52.665482: I tensorflow/stream_executor/cuda/cuda_gpu_executor.cc:983] successful NUMA node read from SysFS had negative value (-1), but there must be at least one NUMA node, so returning NUMA node zero\n",
      "2023-12-14 07:16:52.665637: I tensorflow/compiler/xla/service/service.cc:168] XLA service 0x479f300 initialized for platform CUDA (this does not guarantee that XLA will be used). Devices:\n",
      "2023-12-14 07:16:52.665651: I tensorflow/compiler/xla/service/service.cc:176]   StreamExecutor device (0): NVIDIA GeForce RTX 3060 Ti, Compute Capability 8.6\n",
      "2023-12-14 07:16:52.665700: I tensorflow/core/common_runtime/gpu/gpu_device.cc:1159] Device interconnect StreamExecutor with strength 1 edge matrix:\n",
      "2023-12-14 07:16:52.665704: I tensorflow/core/common_runtime/gpu/gpu_device.cc:1165]      \n"
     ]
    },
    {
     "name": "stdout",
     "output_type": "stream",
     "text": [
      "15000/15000 [==============================] - 0s 22us/sample - loss: 0.6919 - acc: 0.6310 - val_loss: 0.6896 - val_acc: 0.7379\n",
      "Epoch 2/40\n",
      "15000/15000 [==============================] - 0s 16us/sample - loss: 0.6855 - acc: 0.7493 - val_loss: 0.6803 - val_acc: 0.7458\n",
      "Epoch 3/40\n",
      "15000/15000 [==============================] - 0s 16us/sample - loss: 0.6703 - acc: 0.7755 - val_loss: 0.6607 - val_acc: 0.7692\n",
      "Epoch 4/40\n",
      "15000/15000 [==============================] - 0s 17us/sample - loss: 0.6430 - acc: 0.7791 - val_loss: 0.6301 - val_acc: 0.7701\n",
      "Epoch 5/40\n",
      "15000/15000 [==============================] - 0s 21us/sample - loss: 0.6042 - acc: 0.8063 - val_loss: 0.5903 - val_acc: 0.7955\n",
      "Epoch 6/40\n",
      "15000/15000 [==============================] - 0s 16us/sample - loss: 0.5569 - acc: 0.8247 - val_loss: 0.5459 - val_acc: 0.8122\n",
      "Epoch 7/40\n",
      "15000/15000 [==============================] - 0s 16us/sample - loss: 0.5060 - acc: 0.8393 - val_loss: 0.4994 - val_acc: 0.8285\n",
      "Epoch 8/40\n",
      "15000/15000 [==============================] - 0s 18us/sample - loss: 0.4571 - acc: 0.8552 - val_loss: 0.4581 - val_acc: 0.8412\n",
      "Epoch 9/40\n",
      "15000/15000 [==============================] - 0s 18us/sample - loss: 0.4126 - acc: 0.8704 - val_loss: 0.4214 - val_acc: 0.8506\n",
      "Epoch 10/40\n",
      "15000/15000 [==============================] - 0s 16us/sample - loss: 0.3738 - acc: 0.8804 - val_loss: 0.3921 - val_acc: 0.8552\n",
      "Epoch 11/40\n",
      "15000/15000 [==============================] - 0s 16us/sample - loss: 0.3418 - acc: 0.8883 - val_loss: 0.3686 - val_acc: 0.8632\n",
      "Epoch 12/40\n",
      "15000/15000 [==============================] - 0s 16us/sample - loss: 0.3152 - acc: 0.8951 - val_loss: 0.3508 - val_acc: 0.8681\n",
      "Epoch 13/40\n",
      "15000/15000 [==============================] - 0s 19us/sample - loss: 0.2936 - acc: 0.9004 - val_loss: 0.3356 - val_acc: 0.8729\n",
      "Epoch 14/40\n",
      "15000/15000 [==============================] - 0s 23us/sample - loss: 0.2743 - acc: 0.9073 - val_loss: 0.3246 - val_acc: 0.8756\n",
      "Epoch 15/40\n",
      "15000/15000 [==============================] - 0s 19us/sample - loss: 0.2581 - acc: 0.9112 - val_loss: 0.3158 - val_acc: 0.8776\n",
      "Epoch 16/40\n",
      "15000/15000 [==============================] - 0s 18us/sample - loss: 0.2436 - acc: 0.9173 - val_loss: 0.3084 - val_acc: 0.8773\n",
      "Epoch 17/40\n",
      "15000/15000 [==============================] - 0s 21us/sample - loss: 0.2301 - acc: 0.9215 - val_loss: 0.3024 - val_acc: 0.8800\n",
      "Epoch 18/40\n",
      "15000/15000 [==============================] - 0s 21us/sample - loss: 0.2181 - acc: 0.9247 - val_loss: 0.2976 - val_acc: 0.8826\n",
      "Epoch 19/40\n",
      "15000/15000 [==============================] - 0s 21us/sample - loss: 0.2073 - acc: 0.9275 - val_loss: 0.2933 - val_acc: 0.8836\n",
      "Epoch 20/40\n",
      "15000/15000 [==============================] - 0s 16us/sample - loss: 0.1976 - acc: 0.9315 - val_loss: 0.2907 - val_acc: 0.8837\n",
      "Epoch 21/40\n",
      "15000/15000 [==============================] - 0s 16us/sample - loss: 0.1876 - acc: 0.9367 - val_loss: 0.2884 - val_acc: 0.8851\n",
      "Epoch 22/40\n",
      "15000/15000 [==============================] - 0s 16us/sample - loss: 0.1793 - acc: 0.9409 - val_loss: 0.2869 - val_acc: 0.8854\n",
      "Epoch 23/40\n",
      "15000/15000 [==============================] - 0s 16us/sample - loss: 0.1710 - acc: 0.9452 - val_loss: 0.2867 - val_acc: 0.8843\n",
      "Epoch 24/40\n",
      "15000/15000 [==============================] - 0s 16us/sample - loss: 0.1637 - acc: 0.9475 - val_loss: 0.2857 - val_acc: 0.8857\n",
      "Epoch 25/40\n",
      "15000/15000 [==============================] - 0s 16us/sample - loss: 0.1563 - acc: 0.9511 - val_loss: 0.2852 - val_acc: 0.8852\n",
      "Epoch 26/40\n",
      "15000/15000 [==============================] - 0s 16us/sample - loss: 0.1497 - acc: 0.9537 - val_loss: 0.2865 - val_acc: 0.8839\n",
      "Epoch 27/40\n",
      "15000/15000 [==============================] - 0s 16us/sample - loss: 0.1434 - acc: 0.9564 - val_loss: 0.2867 - val_acc: 0.8851\n",
      "Epoch 28/40\n",
      "15000/15000 [==============================] - 0s 16us/sample - loss: 0.1375 - acc: 0.9580 - val_loss: 0.2878 - val_acc: 0.8856\n",
      "Epoch 29/40\n",
      "15000/15000 [==============================] - 0s 16us/sample - loss: 0.1322 - acc: 0.9611 - val_loss: 0.2903 - val_acc: 0.8843\n",
      "Epoch 30/40\n",
      "15000/15000 [==============================] - 0s 16us/sample - loss: 0.1266 - acc: 0.9625 - val_loss: 0.2903 - val_acc: 0.8850\n",
      "Epoch 31/40\n",
      "15000/15000 [==============================] - 0s 16us/sample - loss: 0.1211 - acc: 0.9657 - val_loss: 0.2921 - val_acc: 0.8857\n",
      "Epoch 32/40\n",
      "15000/15000 [==============================] - 0s 16us/sample - loss: 0.1161 - acc: 0.9679 - val_loss: 0.2942 - val_acc: 0.8852\n",
      "Epoch 33/40\n",
      "15000/15000 [==============================] - 0s 16us/sample - loss: 0.1113 - acc: 0.9693 - val_loss: 0.2972 - val_acc: 0.8845\n",
      "Epoch 34/40\n",
      "15000/15000 [==============================] - 0s 16us/sample - loss: 0.1070 - acc: 0.9703 - val_loss: 0.2999 - val_acc: 0.8838\n",
      "Epoch 35/40\n",
      "15000/15000 [==============================] - 0s 16us/sample - loss: 0.1029 - acc: 0.9720 - val_loss: 0.3035 - val_acc: 0.8836\n",
      "Epoch 36/40\n",
      "15000/15000 [==============================] - 0s 16us/sample - loss: 0.0987 - acc: 0.9737 - val_loss: 0.3057 - val_acc: 0.8834\n",
      "Epoch 37/40\n",
      "15000/15000 [==============================] - 0s 16us/sample - loss: 0.0946 - acc: 0.9751 - val_loss: 0.3089 - val_acc: 0.8820\n",
      "Epoch 38/40\n",
      "15000/15000 [==============================] - 0s 16us/sample - loss: 0.0909 - acc: 0.9767 - val_loss: 0.3132 - val_acc: 0.8817\n",
      "Epoch 39/40\n",
      "15000/15000 [==============================] - 0s 16us/sample - loss: 0.0878 - acc: 0.9777 - val_loss: 0.3176 - val_acc: 0.8811\n",
      "Epoch 40/40\n",
      "15000/15000 [==============================] - 0s 17us/sample - loss: 0.0839 - acc: 0.9795 - val_loss: 0.3204 - val_acc: 0.8814\n"
     ]
    }
   ],
   "source": [
    "## 训练模型\n",
    "history = model.fit(partial_x_train,\n",
    "                    partial_y_train,\n",
    "                    epochs=40,\n",
    "                    batch_size=512,\n",
    "                    validation_data=(x_val, y_val),\n",
    "                    verbose=1)"
   ]
  },
  {
   "cell_type": "code",
   "execution_count": 12,
   "metadata": {},
   "outputs": [
    {
     "name": "stdout",
     "output_type": "stream",
     "text": [
      "25000/25000 [==============================] - 0s 8us/sample - loss: 0.3428 - acc: 0.8699\n",
      "[0.34282497223854064, 0.86992]\n"
     ]
    }
   ],
   "source": [
    "## 评估模型\n",
    "results = model.evaluate(test_data, test_labels)\n",
    "print(results)"
   ]
  },
  {
   "cell_type": "code",
   "execution_count": 13,
   "metadata": {},
   "outputs": [
    {
     "data": {
      "image/png": "[encoded data removed]",
      "text/plain": [
       "<Figure size 432x288 with 1 Axes>"
      ]
     },
     "metadata": {
      "needs_background": "light"
     },
     "output_type": "display_data"
    },
    {
     "data": {
      "image/png": "[encoded data removed]",
      "text/plain": [
       "<Figure size 432x288 with 1 Axes>"
      ]
     },
     "metadata": {
      "needs_background": "light"
     },
     "output_type": "display_data"
    }
   ],
   "source": [
    "## 创建准确率和损失随时间变化的图\n",
    "history_dict = history.history\n",
    "history_dict.keys()\n",
    "\n",
    "import matplotlib.pyplot as plt\n",
    "\n",
    "acc = history.history['acc']\n",
    "val_acc = history.history['val_acc']\n",
    "loss = history.history['loss']\n",
    "val_loss = history.history['val_loss']\n",
    "\n",
    "epochs = range(1, len(acc) + 1)\n",
    "\n",
    "# \"bo\" is for \"blue dot\"\n",
    "plt.plot(epochs, loss, 'bo', label='Training loss')\n",
    "# b is for \"solid blue line\"\n",
    "plt.plot(epochs, val_loss, 'b', label='Validation loss')\n",
    "plt.title('Training and validation loss')\n",
    "plt.xlabel('Epochs')\n",
    "plt.ylabel('Loss')\n",
    "plt.legend()\n",
    "\n",
    "plt.show()\n",
    "\n",
    "plt.clf()   # clear figure\n",
    "acc_values = history_dict['acc']\n",
    "val_acc_values = history_dict['val_acc']\n",
    "\n",
    "plt.plot(epochs, acc, 'bo', label='Training acc')\n",
    "plt.plot(epochs, val_acc, 'b', label='Validation acc')\n",
    "plt.title('Training and validation accuracy')\n",
    "plt.xlabel('Epochs')\n",
    "plt.ylabel('Accuracy')\n",
    "plt.legend()\n",
    "\n",
    "plt.show()"
   ]
  },
  {
   "cell_type": "code",
   "execution_count": null,
   "metadata": {},
   "outputs": [],
   "source": []
  }
 ],
 "metadata": {
  "interpreter": {
   "hash": "f9697a2dd5b2151782a3f86c429a17173d5841c8767147afef20cb4c5e7a0764"
  },
  "kernelspec": {
   "display_name": "tensorflow1_15_py37",
   "language": "python",
   "name": "tensorflow1_15_py37"
  },
  "language_info": {
   "codemirror_mode": {
    "name": "ipython",
    "version": 3
   },
   "file_extension": ".py",
   "mimetype": "text/x-python",
   "name": "python",
   "nbconvert_exporter": "python",
   "pygments_lexer": "ipython3",
   "version": "3.7.16"
  }
 },
 "nbformat": 4,
 "nbformat_minor": 2
}
