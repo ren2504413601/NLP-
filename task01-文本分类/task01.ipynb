{
 "cells": [
  {
   "cell_type": "markdown",
   "metadata": {},
   "source": [
    "### 准备任务\n",
    "\n",
    "anaconda/miniconda安装: https://mirrors.tuna.tsinghua.edu.cn/anaconda/\n",
    "\n",
    "tensorflow安装: http://www.tensorflownews.com/series/tensorflow-install-tutorial/\n"
   ]
  },
  {
   "cell_type": "markdown",
   "metadata": {},
   "source": [
    "### 数据集探索\n",
    "\n",
    "**中文数据集：THUCNews**\n",
    "\n",
    "THUCTC(THU Chinese Text Classification)是由清华大学自然语言处理实验室推出的中文文本分类工具包，能够自动高效地实现用户自定义的文本分类语料的训练、评测、分类功能。文本分类通常包括特征选取、特征降维、分类模型学习三个步骤。\n",
    "\n",
    "THUCNews是根据新浪新闻RSS订阅频道2005~2011年间的历史数据筛选过滤生成，包含74万篇新闻文档（2.19 GB），均为UTF-8纯文本格式。我们在原始新浪新闻分类体系的基础上，重新整合划分出14个候选分类类别：财经、彩票、房产、股票、家居、教育、科技、社会、时尚、时政、体育、星座、游戏、娱乐。使用THUCTC工具包在此数据集上进行评测，准确率可以达到88.6%。\n",
    "\n",
    "THUCNews数据子集：https://pan.baidu.com/s/1hugrfRu 密码：qfud\n",
    "\n",
    "**英文数据集：IMDB数据集**\n",
    "\n",
    " IMDB 数据集，其中包含来自互联网电影数据库的 50000 条影评文本。我们将这些影评拆分为训练集（25000 条影评）和测试集（25000 条影评）。训练集和测试集之间达成了平衡，意味着它们包含相同数量的正面和负面影评。"
   ]
  },
  {
   "cell_type": "code",
   "execution_count": 8,
   "metadata": {},
   "outputs": [
    {
     "name": "stdout",
     "output_type": "stream",
     "text": [
      "(25000,) (25000,)\n",
      "218\n"
     ]
    }
   ],
   "source": [
    "##下载 IMDB 数据\n",
    "import keras\n",
    "imdb = keras.datasets.imdb\n",
    "(train_data, train_labels), (test_data, test_labels) = imdb.load_data(num_words=10000)\n",
    "print(train_data.shape,test_data.shape)\n",
    "print(len(train_data[0]))"
   ]
  },
  {
   "cell_type": "markdown",
   "metadata": {},
   "source": [
    "### 【NLP文本分类】对IMDB电影评论进行情感分析\n",
    "\n",
    "**例子**:\n",
    "\n",
    "https://www.kesci.com/home/project/5b6c05409889570010ccce90\n",
    "\n",
    "https://tensorflow.google.cn/tutorials/keras/basic_text_classification"
   ]
  },
  {
   "cell_type": "markdown",
   "metadata": {},
   "source": [
    "###  ROC和PR曲线\n",
    "\n",
    "https://www.imooc.com/article/48072"
   ]
  },
  {
   "cell_type": "code",
   "execution_count": null,
   "metadata": {},
   "outputs": [],
   "source": []
  }
 ],
 "metadata": {
  "kernelspec": {
   "display_name": "Python [conda env:.conda-tensorflow]",
   "language": "python",
   "name": "conda-env-.conda-tensorflow-py"
  },
  "language_info": {
   "codemirror_mode": {
    "name": "ipython",
    "version": 3
   },
   "file_extension": ".py",
   "mimetype": "text/x-python",
   "name": "python",
   "nbconvert_exporter": "python",
   "pygments_lexer": "ipython3",
   "version": "3.6.8"
  }
 },
 "nbformat": 4,
 "nbformat_minor": 2
}
